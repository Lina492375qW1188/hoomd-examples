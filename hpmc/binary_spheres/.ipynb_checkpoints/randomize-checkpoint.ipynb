{
 "cells": [
  {
   "cell_type": "code",
   "execution_count": 1,
   "id": "702174db-0338-4539-951f-75d9c312a785",
   "metadata": {},
   "outputs": [],
   "source": [
    "import time\n",
    "import numpy as np\n",
    "\n",
    "import hoomd\n",
    "import gsd.hoomd"
   ]
  },
  {
   "cell_type": "markdown",
   "id": "0ad73fac-d9e0-4acf-94bc-76ee9a067a01",
   "metadata": {},
   "source": [
    "#### initializing snapshot"
   ]
  },
  {
   "cell_type": "code",
   "execution_count": 2,
   "id": "44870b8f-b083-4969-ab05-234679d29f4b",
   "metadata": {},
   "outputs": [],
   "source": [
    "cpu = hoomd.device.CPU()\n",
    "sim = hoomd.Simulation(device=cpu, seed=59920)\n",
    "sim.create_state_from_gsd(filename='./DATA/lattice.gsd')"
   ]
  },
  {
   "cell_type": "markdown",
   "id": "7102a019-5245-4fb6-9eb6-5ce06a7c9b7a",
   "metadata": {},
   "source": [
    "#### integrator"
   ]
  },
  {
   "cell_type": "code",
   "execution_count": 3,
   "id": "9e3e783b-bea8-450e-bf70-23f0f4858904",
   "metadata": {},
   "outputs": [],
   "source": [
    "def compute_d1d2(alpha):\n",
    "        \n",
    "    const = (4*np.pi/3)**(-1/3)\n",
    "    volume_of_two_types = 2.0\n",
    "    pre_factor = const * (volume_of_two_types)**(1/3)\n",
    "\n",
    "    r1 = pre_factor * (1/(1+alpha**3))**(1/3)\n",
    "    r2 = alpha * r1\n",
    "\n",
    "    return 2*r1, 2*r2\n",
    "\n",
    "alpha = 0.42\n",
    "d1, d2 = compute_d1d2(alpha)\n",
    "\n",
    "mc = hoomd.hpmc.integrate.Sphere(default_d=0.3, default_a=0.4)\n",
    "mc.shape[\"A\"] = dict(diameter=d1)\n",
    "mc.shape[\"B\"] = dict(diameter=d2)"
   ]
  },
  {
   "cell_type": "markdown",
   "id": "cdc0e0d7-bdd2-408c-a01b-ee99bf1383c2",
   "metadata": {},
   "source": [
    "#### write"
   ]
  },
  {
   "cell_type": "code",
   "execution_count": 4,
   "id": "88aba7f8-7b22-467f-ac3d-486d6833ada4",
   "metadata": {},
   "outputs": [
    {
     "name": "stderr",
     "output_type": "stream",
     "text": [
      "/Users/lina492375qw1188/opt/miniconda3/envs/alchemy/lib/python3.9/site-packages/hoomd/write/gsd.py:183: FutureWarning: log keyword arguments passed to <hoomd.write.gsd.GSD object at 0x115f85970> is deprecated since v3.9.0. Use logger instead.\n",
      "  warnings.warn(\n"
     ]
    }
   ],
   "source": [
    "logger = hoomd.logging.Logger()\n",
    "logger.add(mc, quantities=['type_shapes'])\n",
    "\n",
    "gsd_writer = hoomd.write.GSD(filename='./DATA/randomize.gsd',\n",
    "                             trigger=hoomd.trigger.Periodic(1000),\n",
    "                             mode='wb',\n",
    "                             filter=hoomd.filter.All(),\n",
    "                             log=logger)"
   ]
  },
  {
   "cell_type": "markdown",
   "id": "4efb8141-a5ca-4b23-8d33-31905b11848b",
   "metadata": {},
   "source": [
    "#### attaching operations"
   ]
  },
  {
   "cell_type": "code",
   "execution_count": 5,
   "id": "eceef49a-f1be-43e3-89ec-cadeb049786b",
   "metadata": {},
   "outputs": [],
   "source": [
    "sim.operations.writers.append(gsd_writer)\n",
    "sim.operations.integrator = mc"
   ]
  },
  {
   "cell_type": "markdown",
   "id": "525be3c7-1cd4-4d63-abb8-b4166915987b",
   "metadata": {},
   "source": [
    "#### run simulation"
   ]
  },
  {
   "cell_type": "code",
   "execution_count": 6,
   "id": "43d648a9-d9d2-472f-8827-e4fd59bcced0",
   "metadata": {},
   "outputs": [
    {
     "name": "stdout",
     "output_type": "stream",
     "text": [
      "Time elapsed 40.963562965393066\n"
     ]
    }
   ],
   "source": [
    "start = time.time()\n",
    "\n",
    "sim.run(1e4)\n",
    "\n",
    "print('Time elapsed', time.time()-start)"
   ]
  }
 ],
 "metadata": {
  "kernelspec": {
   "display_name": "Python 3 (ipykernel)",
   "language": "python",
   "name": "python3"
  },
  "language_info": {
   "codemirror_mode": {
    "name": "ipython",
    "version": 3
   },
   "file_extension": ".py",
   "mimetype": "text/x-python",
   "name": "python",
   "nbconvert_exporter": "python",
   "pygments_lexer": "ipython3",
   "version": "3.9.16"
  }
 },
 "nbformat": 4,
 "nbformat_minor": 5
}
