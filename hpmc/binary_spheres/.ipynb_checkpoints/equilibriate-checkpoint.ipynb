{
 "cells": [
  {
   "cell_type": "code",
   "execution_count": 1,
   "id": "ece0b0c3-4248-4fcb-bbc7-32504246d1c6",
   "metadata": {},
   "outputs": [],
   "source": [
    "import time\n",
    "import numpy as np\n",
    "\n",
    "import hoomd\n",
    "import gsd.hoomd\n",
    "\n",
    "from type_updater import TypeUpdater"
   ]
  },
  {
   "cell_type": "markdown",
   "id": "5075a76f-b0ad-4665-a98b-616a8b5e8e03",
   "metadata": {},
   "source": [
    "#### initializing snapshot"
   ]
  },
  {
   "cell_type": "code",
   "execution_count": 2,
   "id": "6762caaf-dde0-4def-b51e-74232b69c5ca",
   "metadata": {},
   "outputs": [],
   "source": [
    "cpu = hoomd.device.CPU()\n",
    "sim = hoomd.Simulation(device=cpu, seed=59920)\n",
    "sim.create_state_from_gsd(filename='./DATA/compress.gsd', frame=-1)"
   ]
  },
  {
   "cell_type": "markdown",
   "id": "b50baf4f-cd06-40ca-a50d-0e784b7bed8e",
   "metadata": {},
   "source": [
    "#### integrator"
   ]
  },
  {
   "cell_type": "code",
   "execution_count": 3,
   "id": "f1e926d3-8386-4d43-bc27-18adc7294e2d",
   "metadata": {},
   "outputs": [],
   "source": [
    "def compute_d1d2(alpha):\n",
    "        \n",
    "    const = (4*np.pi/3)**(-1/3)\n",
    "    volume_of_two_types = 2.0\n",
    "    pre_factor = const * (volume_of_two_types)**(1/3)\n",
    "\n",
    "    r1 = pre_factor * (1/(1+alpha**3))**(1/3)\n",
    "    r2 = alpha * r1\n",
    "\n",
    "    return 2*r1, 2*r2\n",
    "\n",
    "alpha = 0.42\n",
    "d1, d2 = compute_d1d2(alpha)\n",
    "\n",
    "mc = hoomd.hpmc.integrate.Sphere(default_d=0.3, default_a=0.4)\n",
    "mc.shape[\"A\"] = dict(diameter=d1)\n",
    "mc.shape[\"B\"] = dict(diameter=d2)"
   ]
  },
  {
   "cell_type": "markdown",
   "id": "fd4644b2-c3da-46ef-a91b-f3a2c78815b3",
   "metadata": {},
   "source": [
    "#### movesize tuner"
   ]
  },
  {
   "cell_type": "code",
   "execution_count": 4,
   "id": "343beaaa-932d-4591-b867-10d3ef44b1e8",
   "metadata": {
    "tags": []
   },
   "outputs": [],
   "source": [
    "tune = hoomd.hpmc.tune.MoveSize.scale_solver(\n",
    "    moves=['a', 'd'],\n",
    "    target=0.2,\n",
    "    trigger=hoomd.trigger.And([\n",
    "        hoomd.trigger.Periodic(100),\n",
    "        hoomd.trigger.Before(sim.timestep + 5000)\n",
    "    ]))"
   ]
  },
  {
   "cell_type": "markdown",
   "id": "9e0206a2-3d53-45ea-b903-a596c5edf2c3",
   "metadata": {},
   "source": [
    "#### type updater"
   ]
  },
  {
   "cell_type": "code",
   "execution_count": 5,
   "id": "00caa9ad-ecdc-416a-b1d5-a21a37efb08a",
   "metadata": {},
   "outputs": [],
   "source": [
    "rng = np.random.default_rng(9920)\n",
    "typeupdater = hoomd.update.CustomUpdater(action=TypeUpdater(rng=rng), trigger=1)"
   ]
  },
  {
   "cell_type": "markdown",
   "id": "bc150c99-d4f4-4030-b354-732dcf76dbf6",
   "metadata": {},
   "source": [
    "#### write"
   ]
  },
  {
   "cell_type": "code",
   "execution_count": 6,
   "id": "70df949d-96ca-42ab-8703-7c153007c9c3",
   "metadata": {},
   "outputs": [
    {
     "name": "stderr",
     "output_type": "stream",
     "text": [
      "/Users/lina492375qw1188/opt/miniconda3/envs/patchy/lib/python3.9/site-packages/hoomd/write/gsd.py:183: FutureWarning: log keyword arguments passed to <hoomd.write.gsd.GSD object at 0x12464cd30> is deprecated since v3.9.0. Use logger instead.\n",
      "  warnings.warn(\n"
     ]
    }
   ],
   "source": [
    "logger = hoomd.logging.Logger()\n",
    "logger.add(mc, quantities=['type_shapes'])\n",
    "\n",
    "gsd_writer = hoomd.write.GSD(filename='./DATA/equilibriate.gsd',\n",
    "                             trigger=hoomd.trigger.Periodic(100),\n",
    "                             mode='wb',\n",
    "                             filter=hoomd.filter.All(),\n",
    "                             dynamic=['attribute'],\n",
    "                             log=logger)"
   ]
  },
  {
   "cell_type": "markdown",
   "id": "7abacc48-a933-4aa4-943d-898d715e29ee",
   "metadata": {},
   "source": [
    "#### attaching operations"
   ]
  },
  {
   "cell_type": "code",
   "execution_count": 7,
   "id": "19496ada-0b19-47a3-986d-c982231e7aa0",
   "metadata": {},
   "outputs": [],
   "source": [
    "sim.operations.writers.append(gsd_writer)\n",
    "sim.operations.integrator = mc\n",
    "sim.operations.tuners.append(tune)\n",
    "sim.operations.updaters.append(typeupdater)"
   ]
  },
  {
   "cell_type": "markdown",
   "id": "66ff686c-42c8-4975-af64-0176484abe1e",
   "metadata": {},
   "source": [
    "#### tuning run"
   ]
  },
  {
   "cell_type": "code",
   "execution_count": 8,
   "id": "cc37cdf1-1db6-4378-95d7-1e4e89909aed",
   "metadata": {},
   "outputs": [],
   "source": [
    "sim.run(5000)"
   ]
  },
  {
   "cell_type": "markdown",
   "id": "b02f899a-61b1-474b-8f94-d64646bc7151",
   "metadata": {},
   "source": [
    "#### check acceptance ratio"
   ]
  },
  {
   "cell_type": "code",
   "execution_count": 9,
   "id": "fa83c7f7-6863-4a59-a365-bdd92bcb67bd",
   "metadata": {},
   "outputs": [
    {
     "data": {
      "text/plain": [
       "0.205615"
      ]
     },
     "execution_count": 9,
     "metadata": {},
     "output_type": "execute_result"
    }
   ],
   "source": [
    "sim.run(100)\n",
    "\n",
    "translate_moves = mc.translate_moves\n",
    "mc.translate_moves[0] / sum(mc.translate_moves)"
   ]
  },
  {
   "cell_type": "markdown",
   "id": "1ccbd30b-d59d-4b37-aad8-7a6650732786",
   "metadata": {},
   "source": [
    "#### run simulation"
   ]
  },
  {
   "cell_type": "code",
   "execution_count": 10,
   "id": "ac5950a2-6353-448c-ab11-15629055c9de",
   "metadata": {},
   "outputs": [
    {
     "name": "stdout",
     "output_type": "stream",
     "text": [
      "Time elapsed 52.52597498893738\n"
     ]
    }
   ],
   "source": [
    "start = time.time()\n",
    "\n",
    "sim.run(1e4)\n",
    "\n",
    "print('Time elapsed', time.time()-start)"
   ]
  },
  {
   "cell_type": "code",
   "execution_count": 11,
   "id": "ae5fb788-8c5e-4232-a5d3-c794b9becfa8",
   "metadata": {
    "tags": []
   },
   "outputs": [
    {
     "data": {
      "text/plain": [
       "(5, 15095)"
      ]
     },
     "execution_count": 11,
     "metadata": {},
     "output_type": "execute_result"
    }
   ],
   "source": [
    "typeupdater.moves"
   ]
  }
 ],
 "metadata": {
  "kernelspec": {
   "display_name": "Python 3 (ipykernel)",
   "language": "python",
   "name": "python3"
  },
  "language_info": {
   "codemirror_mode": {
    "name": "ipython",
    "version": 3
   },
   "file_extension": ".py",
   "mimetype": "text/x-python",
   "name": "python",
   "nbconvert_exporter": "python",
   "pygments_lexer": "ipython3",
   "version": "3.9.16"
  }
 },
 "nbformat": 4,
 "nbformat_minor": 5
}
