{
 "cells": [
  {
   "cell_type": "code",
   "execution_count": 1,
   "id": "b8c83a06-5401-45a4-b6e9-206eafcc39d9",
   "metadata": {},
   "outputs": [],
   "source": [
    "import math\n",
    "import itertools\n",
    "import numpy as np\n",
    "\n",
    "import hoomd\n",
    "import gsd.hoomd\n",
    "\n",
    "from pair import lj"
   ]
  },
  {
   "cell_type": "code",
   "execution_count": 2,
   "id": "7da145e1-d2a5-4fab-8395-0177f2a98442",
   "metadata": {},
   "outputs": [],
   "source": [
    "cpu = hoomd.device.CPU()\n",
    "sim = hoomd.Simulation(device=cpu, seed=1)\n",
    "\n",
    "mc = hoomd.hpmc.integrate.Sphere(default_d=0.3, default_a=0.4)\n",
    "mc.shape[\"A\"] = dict(diameter=1.0)\n",
    "\n",
    "sigma = 1.0\n",
    "epsilon = 1.0\n",
    "\n",
    "lj = lj.format(sigma=sigma, epsilon=epsilon)\n",
    "patch = hoomd.hpmc.pair.user.CPPPotential(r_cut=3.0*sigma, \n",
    "                                          code=lj,\n",
    "                                          param_array=[])\n",
    "\n",
    "mc.pair_potential = patch\n",
    "sim.operations.integrator = mc\n",
    "sim.create_state_from_gsd(filename='./DATA/lattice.gsd')\n"
   ]
  },
  {
   "cell_type": "code",
   "execution_count": 3,
   "id": "a4c37e9b-0cd5-4d1e-ab12-b1d07e11a95d",
   "metadata": {},
   "outputs": [
    {
     "name": "stderr",
     "output_type": "stream",
     "text": [
      "/Users/lina492375qw1188/opt/miniconda3/envs/patchy/lib/python3.9/site-packages/hoomd/write/gsd.py:183: FutureWarning: log keyword arguments passed to <hoomd.write.gsd.GSD object at 0x103c0dc10> is deprecated since v3.9.0. Use logger instead.\n",
      "  warnings.warn(\n"
     ]
    }
   ],
   "source": [
    "logger = hoomd.logging.Logger()\n",
    "logger.add(mc, quantities=['type_shapes'])\n",
    "\n",
    "gsd_writer = hoomd.write.GSD(filename='./DATA/random.gsd',\n",
    "                             trigger=hoomd.trigger.Periodic(100),\n",
    "                             mode='wb',\n",
    "                             filter=hoomd.filter.All(),\n",
    "                             log=logger)\n",
    "sim.operations.writers.append(gsd_writer)"
   ]
  },
  {
   "cell_type": "code",
   "execution_count": 4,
   "id": "745d9eb4-bc28-4ffc-a8a9-5474b99984f2",
   "metadata": {},
   "outputs": [],
   "source": [
    "sim.run(1e4)"
   ]
  }
 ],
 "metadata": {
  "kernelspec": {
   "display_name": "Python 3 (ipykernel)",
   "language": "python",
   "name": "python3"
  },
  "language_info": {
   "codemirror_mode": {
    "name": "ipython",
    "version": 3
   },
   "file_extension": ".py",
   "mimetype": "text/x-python",
   "name": "python",
   "nbconvert_exporter": "python",
   "pygments_lexer": "ipython3",
   "version": "3.9.16"
  }
 },
 "nbformat": 4,
 "nbformat_minor": 5
}
