{
 "cells": [
  {
   "cell_type": "code",
   "execution_count": 1,
   "id": "c0f0826c-0b1b-481d-b4c9-d127ce8a2309",
   "metadata": {},
   "outputs": [],
   "source": [
    "import math\n",
    "import itertools\n",
    "import numpy as np\n",
    "\n",
    "import hoomd\n",
    "import gsd.hoomd"
   ]
  },
  {
   "cell_type": "code",
   "execution_count": 2,
   "id": "277130bf-3238-4d0b-8b9c-69de74814203",
   "metadata": {},
   "outputs": [],
   "source": [
    "m=4\n",
    "spacing = 4 # > particle size\n",
    "L = m * spacing\n",
    "\n",
    "N_tot = m**3\n",
    "N_particles = N_tot\n",
    "\n",
    "x = np.linspace(-L/2, L/2, m, endpoint=False) + spacing/2\n",
    "position = list(itertools.product(x, repeat=3))[:N_particles]"
   ]
  },
  {
   "cell_type": "code",
   "execution_count": 3,
   "id": "3b918423-faa0-4669-99d8-173066caf083",
   "metadata": {},
   "outputs": [],
   "source": [
    "snapshot = gsd.hoomd.Snapshot()\n",
    "snapshot.particles.types = ['A']\n",
    "snapshot.particles.N = N_particles\n",
    "snapshot.particles.typeid = [0] * N_particles\n",
    "snapshot.particles.position = position\n",
    "snapshot.particles.orientation = [1, 0, 0, 0]*N_particles"
   ]
  },
  {
   "cell_type": "code",
   "execution_count": 4,
   "id": "08d42d56-f6f1-42b2-ad1d-79ea9601a8f9",
   "metadata": {},
   "outputs": [],
   "source": [
    "snapshot.configuration.box = [L, L, L, 0, 0, 0]"
   ]
  },
  {
   "cell_type": "code",
   "execution_count": 5,
   "id": "94da32d9-7c38-4f27-b487-f49b6dfca06a",
   "metadata": {},
   "outputs": [],
   "source": [
    "with gsd.hoomd.open(name='./DATA/lattice.gsd', mode='wb') as f:\n",
    "    f.append(snapshot)"
   ]
  }
 ],
 "metadata": {
  "kernelspec": {
   "display_name": "Python 3 (ipykernel)",
   "language": "python",
   "name": "python3"
  },
  "language_info": {
   "codemirror_mode": {
    "name": "ipython",
    "version": 3
   },
   "file_extension": ".py",
   "mimetype": "text/x-python",
   "name": "python",
   "nbconvert_exporter": "python",
   "pygments_lexer": "ipython3",
   "version": "3.9.16"
  }
 },
 "nbformat": 4,
 "nbformat_minor": 5
}
