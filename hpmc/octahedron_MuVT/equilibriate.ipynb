{
 "cells": [
  {
   "cell_type": "code",
   "execution_count": 1,
   "id": "82c0148b-ce5f-43bf-897f-ce73f0f22247",
   "metadata": {},
   "outputs": [],
   "source": [
    "import time\n",
    "import numpy as np\n",
    "\n",
    "import hoomd\n",
    "import gsd.hoomd\n",
    "\n",
    "import coxeter"
   ]
  },
  {
   "cell_type": "markdown",
   "id": "bef56024-f6b7-437a-b5a9-a69cf70c96bb",
   "metadata": {},
   "source": [
    "#### initializing snapshot"
   ]
  },
  {
   "cell_type": "code",
   "execution_count": 2,
   "id": "a22ac670-83bf-473b-adbf-7b3d7861fd37",
   "metadata": {
    "tags": []
   },
   "outputs": [],
   "source": [
    "cpu = hoomd.device.CPU()\n",
    "sim = hoomd.Simulation(device=cpu, seed=59920)\n",
    "sim.create_state_from_gsd(filename='./DATA/randomize.gsd', frame=-1)"
   ]
  },
  {
   "cell_type": "markdown",
   "id": "246de798-7d3a-46c6-94c3-889742f8dc48",
   "metadata": {},
   "source": [
    "#### integrator"
   ]
  },
  {
   "cell_type": "code",
   "execution_count": 3,
   "id": "cffae22f-4c9c-47e8-a0bc-556e7431cb49",
   "metadata": {
    "tags": []
   },
   "outputs": [],
   "source": [
    "alpha_init=1.0\n",
    "family323 = coxeter.families.Family323Plus()\n",
    "particle = family323.get_shape(a=alpha_init, c=0.2*alpha_init+0.8)\n",
    "verts = particle.vertices/particle.volume**(1/3)\n",
    "\n",
    "mc = hoomd.hpmc.integrate.ConvexPolyhedron()\n",
    "mc.shape[\"A\"] = dict(vertices=verts)"
   ]
  },
  {
   "cell_type": "markdown",
   "id": "4295c3cc-a7ff-4f21-9fbd-fa0fff5763e2",
   "metadata": {},
   "source": [
    "#### thermodynamic ensemble"
   ]
  },
  {
   "cell_type": "code",
   "execution_count": 4,
   "id": "51603c4e-e88f-4e10-9dda-aca056d4b8aa",
   "metadata": {},
   "outputs": [],
   "source": [
    "muvt = hoomd.hpmc.update.MuVT(['A'], trigger=hoomd.trigger.Periodic(1))\n",
    "muvt.fugacity['A']=1"
   ]
  },
  {
   "cell_type": "markdown",
   "id": "e1dfbdbd-61f2-4b00-bb11-c7835173a0ac",
   "metadata": {},
   "source": [
    "#### write"
   ]
  },
  {
   "cell_type": "code",
   "execution_count": 5,
   "id": "49434341-7d01-4a04-bec2-bf9a0db9ac78",
   "metadata": {
    "tags": []
   },
   "outputs": [
    {
     "name": "stderr",
     "output_type": "stream",
     "text": [
      "/Users/lina492375qw1188/opt/miniconda3/envs/patchy/lib/python3.9/site-packages/hoomd/write/gsd.py:183: FutureWarning: log keyword arguments passed to <hoomd.write.gsd.GSD object at 0x13988d3a0> is deprecated since v3.9.0. Use logger instead.\n",
      "  warnings.warn(\n"
     ]
    }
   ],
   "source": [
    "logger = hoomd.logging.Logger()\n",
    "logger.add(mc, quantities=['type_shapes'])\n",
    "\n",
    "gsd_writer = hoomd.write.GSD(filename='./DATA/equilibriate.gsd',\n",
    "                             trigger=hoomd.trigger.Periodic(100),\n",
    "                             mode='wb',\n",
    "                             filter=hoomd.filter.All(),\n",
    "                             dynamic=['momentum'],\n",
    "                             log=logger)"
   ]
  },
  {
   "cell_type": "markdown",
   "id": "087c7cbd-1906-4085-8f6c-ffd96e8494e2",
   "metadata": {},
   "source": [
    "#### attaching operations"
   ]
  },
  {
   "cell_type": "code",
   "execution_count": 6,
   "id": "2db1ed3f-4642-42e1-84d0-2105f9d3297b",
   "metadata": {},
   "outputs": [],
   "source": [
    "sim.operations.writers.append(gsd_writer)\n",
    "sim.operations.integrator = mc\n",
    "sim.operations.updaters.append(muvt)"
   ]
  },
  {
   "cell_type": "markdown",
   "id": "eec491fb-28e8-4638-a795-504f284718e1",
   "metadata": {
    "tags": []
   },
   "source": [
    "#### run simulation"
   ]
  },
  {
   "cell_type": "code",
   "execution_count": 7,
   "id": "3a66779a-8c42-4f5c-a14c-848d7594a9aa",
   "metadata": {
    "tags": []
   },
   "outputs": [
    {
     "name": "stdout",
     "output_type": "stream",
     "text": [
      "Time elapsed 4.822849750518799\n"
     ]
    }
   ],
   "source": [
    "start = time.time()\n",
    "\n",
    "sim.run(1e4)\n",
    "\n",
    "print('Time elapsed', time.time()-start)"
   ]
  }
 ],
 "metadata": {
  "kernelspec": {
   "display_name": "Python 3 (ipykernel)",
   "language": "python",
   "name": "python3"
  },
  "language_info": {
   "codemirror_mode": {
    "name": "ipython",
    "version": 3
   },
   "file_extension": ".py",
   "mimetype": "text/x-python",
   "name": "python",
   "nbconvert_exporter": "python",
   "pygments_lexer": "ipython3",
   "version": "3.9.16"
  }
 },
 "nbformat": 4,
 "nbformat_minor": 5
}
