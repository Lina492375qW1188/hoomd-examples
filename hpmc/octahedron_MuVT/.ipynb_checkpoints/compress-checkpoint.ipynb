{
 "cells": [
  {
   "cell_type": "code",
   "execution_count": 1,
   "id": "f4be01fa-448a-4e14-be17-c7363c49fefd",
   "metadata": {},
   "outputs": [],
   "source": [
    "import time\n",
    "import numpy as np\n",
    "\n",
    "import hoomd\n",
    "import gsd.hoomd\n",
    "\n",
    "import coxeter"
   ]
  },
  {
   "cell_type": "markdown",
   "id": "79937aed-0af3-4246-a0bf-2f48ea4d9f91",
   "metadata": {},
   "source": [
    "#### initializing snapshot"
   ]
  },
  {
   "cell_type": "code",
   "execution_count": 2,
   "id": "f512cb76-bba4-449f-9699-b1fd7a9b1f69",
   "metadata": {},
   "outputs": [],
   "source": [
    "cpu = hoomd.device.CPU()\n",
    "sim = hoomd.Simulation(device=cpu, seed=59920)\n",
    "sim.create_state_from_gsd(filename='./DATA/randomize.gsd', frame=-1)"
   ]
  },
  {
   "cell_type": "markdown",
   "id": "27a08b03-f7c8-4c7c-a8f6-9bb30968ff74",
   "metadata": {},
   "source": [
    "#### integrator"
   ]
  },
  {
   "cell_type": "code",
   "execution_count": 3,
   "id": "a3372c36-088f-4c3e-8541-cab86409a792",
   "metadata": {},
   "outputs": [],
   "source": [
    "alpha_init=1.0\n",
    "family323 = coxeter.families.Family323Plus()\n",
    "particle = family323.get_shape(a=alpha_init, c=0.2*alpha_init+0.8)\n",
    "verts = particle.vertices/particle.volume**(1/3)\n",
    "\n",
    "mc = hoomd.hpmc.integrate.ConvexPolyhedron()\n",
    "mc.shape[\"A\"] = dict(vertices=verts)"
   ]
  },
  {
   "cell_type": "markdown",
   "id": "fd626958-568f-4616-aac2-056bf3d9ac1c",
   "metadata": {},
   "source": [
    "#### quick compress"
   ]
  },
  {
   "cell_type": "code",
   "execution_count": 4,
   "id": "851f6d59-2bbb-4854-b054-1c4beb043a9e",
   "metadata": {
    "tags": []
   },
   "outputs": [],
   "source": [
    "final_volume_fraction = 0.57\n",
    "\n",
    "initial_box = sim.state.box\n",
    "final_box = hoomd.Box.from_box(initial_box)\n",
    "V_particle = 1\n",
    "final_box.volume = sim.state.N_particles * V_particle / final_volume_fraction\n",
    "compress = hoomd.hpmc.update.QuickCompress(trigger=hoomd.trigger.Periodic(100),\n",
    "                                           target_box=final_box)\n",
    "\n",
    "periodic = hoomd.trigger.Periodic(10)\n",
    "tune = hoomd.hpmc.tune.MoveSize.scale_solver(moves=['a', 'd'],\n",
    "                                             target=0.2,\n",
    "                                             trigger=periodic,\n",
    "                                             max_translation_move=0.2,\n",
    "                                             max_rotation_move=0.2)"
   ]
  },
  {
   "cell_type": "markdown",
   "id": "92e87fc7-15fe-44ab-96fa-b55a217e1615",
   "metadata": {},
   "source": [
    "#### write"
   ]
  },
  {
   "cell_type": "code",
   "execution_count": 5,
   "id": "75c75e3e-eee8-49e3-94b0-3ede680e87ac",
   "metadata": {},
   "outputs": [
    {
     "name": "stderr",
     "output_type": "stream",
     "text": [
      "/Users/lina492375qw1188/opt/miniconda3/envs/patchy/lib/python3.9/site-packages/hoomd/write/gsd.py:183: FutureWarning: log keyword arguments passed to <hoomd.write.gsd.GSD object at 0x10fee0970> is deprecated since v3.9.0. Use logger instead.\n",
      "  warnings.warn(\n"
     ]
    }
   ],
   "source": [
    "logger = hoomd.logging.Logger()\n",
    "logger.add(mc, quantities=['type_shapes'])\n",
    "\n",
    "gsd_writer = hoomd.write.GSD(filename='./DATA/compress.gsd',\n",
    "                             trigger=hoomd.trigger.Periodic(100),\n",
    "                             mode='wb',\n",
    "                             filter=hoomd.filter.All(),\n",
    "                             log=logger)"
   ]
  },
  {
   "cell_type": "markdown",
   "id": "9939cd6c-6338-4153-a04b-eb2901293b54",
   "metadata": {},
   "source": [
    "#### attaching operations"
   ]
  },
  {
   "cell_type": "code",
   "execution_count": 6,
   "id": "fb8ad29e-5a03-4c11-9643-fd3018afb45d",
   "metadata": {
    "tags": []
   },
   "outputs": [],
   "source": [
    "sim.operations.writers.append(gsd_writer)\n",
    "sim.operations.integrator = mc\n",
    "sim.operations.updaters.append(compress)\n",
    "sim.operations.tuners.append(tune)"
   ]
  },
  {
   "cell_type": "markdown",
   "id": "c88e3398-b85d-4647-8f26-d280f80ece80",
   "metadata": {},
   "source": [
    "#### run simulation"
   ]
  },
  {
   "cell_type": "code",
   "execution_count": 7,
   "id": "1df8c335-6277-484c-9ff0-fe64c4f761d9",
   "metadata": {},
   "outputs": [],
   "source": [
    "while not compress.complete and sim.timestep < 1e6:\n",
    "    sim.run(1000)"
   ]
  },
  {
   "cell_type": "markdown",
   "id": "7b9c2914-c558-45b4-b9eb-4569184a86d3",
   "metadata": {},
   "source": [
    "#### check compress"
   ]
  },
  {
   "cell_type": "code",
   "execution_count": 8,
   "id": "3ad42676-bacd-4be2-86ce-9abf03a5e958",
   "metadata": {},
   "outputs": [],
   "source": [
    "if not compress.complete:\n",
    "    raise RuntimeError(\"Compression failed to complete\")"
   ]
  },
  {
   "cell_type": "code",
   "execution_count": 9,
   "id": "dc6edb5b-6993-4d81-8a48-173860f5c24a",
   "metadata": {},
   "outputs": [
    {
     "data": {
      "text/plain": [
       "0"
      ]
     },
     "execution_count": 9,
     "metadata": {},
     "output_type": "execute_result"
    }
   ],
   "source": [
    "mc.overlaps"
   ]
  }
 ],
 "metadata": {
  "kernelspec": {
   "display_name": "Python 3 (ipykernel)",
   "language": "python",
   "name": "python3"
  },
  "language_info": {
   "codemirror_mode": {
    "name": "ipython",
    "version": 3
   },
   "file_extension": ".py",
   "mimetype": "text/x-python",
   "name": "python",
   "nbconvert_exporter": "python",
   "pygments_lexer": "ipython3",
   "version": "3.9.16"
  }
 },
 "nbformat": 4,
 "nbformat_minor": 5
}
