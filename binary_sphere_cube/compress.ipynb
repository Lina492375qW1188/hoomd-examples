{
 "cells": [
  {
   "cell_type": "code",
   "execution_count": 1,
   "id": "9d164b7a-f48a-4c83-9fcb-3a1762621740",
   "metadata": {},
   "outputs": [],
   "source": [
    "import math\n",
    "import itertools\n",
    "import numpy as np\n",
    "\n",
    "import hoomd\n",
    "import gsd.hoomd\n",
    "import coxeter"
   ]
  },
  {
   "cell_type": "markdown",
   "id": "82ca98c0-0095-445a-a5d0-41c306f130e9",
   "metadata": {},
   "source": [
    "#### particle vertices, faces, and insphere radius"
   ]
  },
  {
   "cell_type": "code",
   "execution_count": 2,
   "id": "3c48e425-1e25-436c-b8d1-888ec658a158",
   "metadata": {},
   "outputs": [],
   "source": [
    "lattice = gsd.hoomd.open('./DATA/lattice.gsd')\n",
    "verts = lattice[0].particles.type_shapes[0]['vertices']\n",
    "particle = coxeter.shapes.ConvexPolyhedron(verts)\n",
    "faces = particle.faces\n",
    "sigma = 2*particle.insphere_from_center.radius\n",
    "\n",
    "sphere = coxeter.shapes.Ellipsoid(0.5, 0.5, 0.5)\n",
    "sigma2 = sphere.maximal_bounded_sphere_radius * 2"
   ]
  },
  {
   "cell_type": "markdown",
   "id": "8764fac0-b16f-47bc-8f5d-671418f8b9c3",
   "metadata": {},
   "source": [
    "#### Defining parameters"
   ]
  },
  {
   "cell_type": "code",
   "execution_count": 3,
   "id": "1bd74f1a-9681-4de9-a671-70786800f963",
   "metadata": {
    "tags": []
   },
   "outputs": [
    {
     "data": {
      "text/plain": [
       "(0.033087653834860224, 2.0)"
      ]
     },
     "execution_count": 3,
     "metadata": {},
     "output_type": "execute_result"
    }
   ],
   "source": [
    "# integration timestep\n",
    "dt=0.0005\n",
    "\n",
    "# coupling\n",
    "kT=1.0\n",
    "tau=100*dt\n",
    "\n",
    "# reduced pressure\n",
    "randomized = gsd.hoomd.open('./DATA/anneal.gsd', 'rb')\n",
    "p_init=randomized[-1].log['md/compute/ThermodynamicQuantities/pressure'][0]\n",
    "p_second=16*kT/particle.volume\n",
    "tauS=1000*dt\n",
    "p_init, p_second"
   ]
  },
  {
   "cell_type": "markdown",
   "id": "63083bae-5cd0-4a86-9b7a-e2c1fdcff663",
   "metadata": {},
   "source": [
    "#### Defining simulation"
   ]
  },
  {
   "cell_type": "code",
   "execution_count": 4,
   "id": "ec2a4de7-d941-4ddb-9d3f-29125d982dd2",
   "metadata": {},
   "outputs": [],
   "source": [
    "cpu = hoomd.device.CPU()\n",
    "sim = hoomd.Simulation(device=cpu, seed=5)\n",
    "sim.create_state_from_gsd(filename='./DATA/anneal.gsd', frame=-1)"
   ]
  },
  {
   "cell_type": "markdown",
   "id": "0c9dbc22-ae0c-4812-b191-07fdd6ec54a2",
   "metadata": {},
   "source": [
    "#### Defining potential"
   ]
  },
  {
   "cell_type": "code",
   "execution_count": 5,
   "id": "d39bff63-0122-4219-86f8-f839d441ec37",
   "metadata": {},
   "outputs": [],
   "source": [
    "# neighboring list\n",
    "nl = hoomd.md.nlist.Cell(buffer=0.4)\n",
    "\n",
    "# potential\n",
    "r_cut_A = 2*particle.circumsphere_from_center.radius + 0.15*sigma + 0.167*sigma*2\n",
    "r_cut_B = sigma2 + 0.15*sigma2\n",
    "beta=0.15\n",
    "lambda_min=2**(1/6)\n",
    "lambda_attr=2.5\n",
    "r_cut_AB = max(lambda_min*sigma, r_cut_A + r_cut_B + 0.5*lambda_attr*beta*(sigma+sigma2))\n",
    "\n",
    "alj = hoomd.md.pair.aniso.ALJ(nl)\n",
    "alj.r_cut[('A', 'A')] = r_cut_A\n",
    "alj.params[('A', 'A')] = dict(epsilon=0.1, \n",
    "                              sigma_i=sigma, \n",
    "                              sigma_j=sigma, \n",
    "                              alpha=0)\n",
    "\n",
    "alj.r_cut[('B', 'B')] = r_cut_B\n",
    "alj.params[('B', 'B')] = dict(epsilon=0.1, \n",
    "                              sigma_i=sigma2, \n",
    "                              sigma_j=sigma2, \n",
    "                              alpha=0)\n",
    "\n",
    "alj.r_cut[('A', 'B')] = r_cut_AB\n",
    "alj.params[('A', 'B')] = dict(epsilon=0.1, \n",
    "                              sigma_i=sigma, \n",
    "                              sigma_j=sigma2, \n",
    "                              alpha=2)\n",
    "\n",
    "alj.shape['A'] = dict(vertices=verts, \n",
    "                      faces=faces, \n",
    "                      rounding_radii=0.167*sigma) # rounding_radii=0.15*(sigma/2)\n",
    "alj.shape['B'] = dict(vertices = [], \n",
    "                      faces = [], \n",
    "                      rounding_radii = (sphere.a, sphere.b, sphere.c))\n"
   ]
  },
  {
   "cell_type": "markdown",
   "id": "cdf2e7f0-77bd-408a-8b0d-15d5d431e83e",
   "metadata": {
    "tags": []
   },
   "source": [
    "#### Defining thermodynamic ensemble"
   ]
  },
  {
   "cell_type": "code",
   "execution_count": 6,
   "id": "14c8e4c4-4852-409e-a6d3-f43896d6f210",
   "metadata": {},
   "outputs": [],
   "source": [
    "t_ramp=int(1e4)\n",
    "\n",
    "S = hoomd.variant.Power(A=p_init, \n",
    "                        B=p_second,\n",
    "                        power=5,\n",
    "                        t_start=sim.timestep, \n",
    "                        t_ramp=t_ramp)\n",
    "\n",
    "npt = hoomd.md.methods.NPT(filter=hoomd.filter.All(), \n",
    "                           kT=kT, \n",
    "                           tau=tau, \n",
    "                           S=S, \n",
    "                           tauS=tauS,\n",
    "                           couple='xyz')"
   ]
  },
  {
   "cell_type": "markdown",
   "id": "2c3f98af-f010-4f9a-943c-ffb57fad0515",
   "metadata": {
    "tags": []
   },
   "source": [
    "#### Defining integrator"
   ]
  },
  {
   "cell_type": "code",
   "execution_count": 7,
   "id": "103628b6-a182-4ce7-aa48-90601e3f28b2",
   "metadata": {},
   "outputs": [],
   "source": [
    "integrator = hoomd.md.Integrator(dt=dt, \n",
    "                                 methods=[npt],\n",
    "                                 forces=[alj],\n",
    "                                 integrate_rotational_dof=True)"
   ]
  },
  {
   "cell_type": "markdown",
   "id": "0e3aee4b-d7de-4062-b170-991c7e4e09cf",
   "metadata": {
    "tags": []
   },
   "source": [
    "#### Defining writer"
   ]
  },
  {
   "cell_type": "code",
   "execution_count": 8,
   "id": "479d209d-09b0-418c-8aa1-182f1352583b",
   "metadata": {},
   "outputs": [],
   "source": [
    "thermodynamic_properties = hoomd.md.compute.ThermodynamicQuantities(filter=hoomd.filter.All())"
   ]
  },
  {
   "cell_type": "code",
   "execution_count": 9,
   "id": "def665f5-8751-4683-aef2-37d37b74d635",
   "metadata": {},
   "outputs": [],
   "source": [
    "logger = hoomd.logging.Logger()\n",
    "logger.add(sim, quantities=['timestep', 'walltime'])\n",
    "logger.add(alj, quantities=['type_shapes'])\n",
    "logger.add(thermodynamic_properties)\n",
    "\n",
    "gsd_writer = hoomd.write.GSD(filename='./DATA/compressed.gsd',\n",
    "                             trigger=hoomd.trigger.Periodic(100),\n",
    "                             log=logger,\n",
    "                             mode='wb')"
   ]
  },
  {
   "cell_type": "code",
   "execution_count": 10,
   "id": "d3950f1a-374c-4bbf-9b4a-2ba7b3501080",
   "metadata": {},
   "outputs": [],
   "source": [
    "sim.operations.writers.append(gsd_writer)\n",
    "sim.operations.integrator = integrator\n",
    "sim.operations.computes.append(thermodynamic_properties)"
   ]
  },
  {
   "cell_type": "markdown",
   "id": "f2fa766f-4e6f-4c20-9987-7f0592c6fe79",
   "metadata": {
    "tags": []
   },
   "source": [
    "#### Run simulation"
   ]
  },
  {
   "cell_type": "code",
   "execution_count": 11,
   "id": "6886ebdc-6a91-443b-8730-f052170eb937",
   "metadata": {},
   "outputs": [
    {
     "data": {
      "text/plain": [
       "[{'type': 'ConvexPolyhedron',\n",
       "  'rounding_radius': 0.484,\n",
       "  'vertices': [[1, 1, 1],\n",
       "   [1, 1, -1],\n",
       "   [1, -1, 1],\n",
       "   [-1, 1, 1],\n",
       "   [-1, 1, -1],\n",
       "   [1, -1, -1],\n",
       "   [-1, -1, 1],\n",
       "   [-1, -1, -1]]},\n",
       " {'type': 'Ellipsoid', 'a': 0.575, 'b': 0.575, 'c': 0.575}]"
      ]
     },
     "execution_count": 11,
     "metadata": {},
     "output_type": "execute_result"
    }
   ],
   "source": [
    "sim.run(0)\n",
    "# npt.thermalize_thermostat_and_barostat_dof()\n",
    "alj.type_shapes"
   ]
  },
  {
   "cell_type": "code",
   "execution_count": 12,
   "id": "3de6a72e-e821-4ddd-b39e-228b86db74ab",
   "metadata": {},
   "outputs": [],
   "source": [
    "sim.run(t_ramp)"
   ]
  },
  {
   "cell_type": "code",
   "execution_count": 13,
   "id": "c96b0b84-47dd-4abb-9d29-7afe0fa1f3ec",
   "metadata": {},
   "outputs": [
    {
     "name": "stdout",
     "output_type": "stream",
     "text": [
      "0.6430795484640229\n"
     ]
    }
   ],
   "source": [
    "phi = particle.volume*sim.state.N_particles/sim.state.box.volume\n",
    "print(phi)"
   ]
  }
 ],
 "metadata": {
  "kernelspec": {
   "display_name": "Python 3 (ipykernel)",
   "language": "python",
   "name": "python3"
  },
  "language_info": {
   "codemirror_mode": {
    "name": "ipython",
    "version": 3
   },
   "file_extension": ".py",
   "mimetype": "text/x-python",
   "name": "python",
   "nbconvert_exporter": "python",
   "pygments_lexer": "ipython3",
   "version": "3.10.5"
  }
 },
 "nbformat": 4,
 "nbformat_minor": 5
}
