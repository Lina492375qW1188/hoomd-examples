{
 "cells": [
  {
   "cell_type": "code",
   "execution_count": 1,
   "id": "eedf5037-8b94-4e3f-8659-bc5c4781dd2e",
   "metadata": {},
   "outputs": [],
   "source": [
    "import itertools\n",
    "import numpy as np\n",
    "\n",
    "import hoomd\n",
    "import gsd.hoomd\n",
    "import coxeter"
   ]
  },
  {
   "cell_type": "code",
   "execution_count": 6,
   "id": "7875488d-b7fd-4123-99a4-c64e27c97796",
   "metadata": {},
   "outputs": [],
   "source": [
    "verts = [(1,1,1),\n",
    "         (1,1,-1),\n",
    "         (1,-1,1),\n",
    "         (-1,1,1),\n",
    "         (-1,1,-1),\n",
    "         (1,-1,-1),\n",
    "         (-1,-1,1),\n",
    "         (-1,-1,-1)]"
   ]
  },
  {
   "cell_type": "markdown",
   "id": "b8aebc2b-45f0-42cb-89e6-019a11ed42dc",
   "metadata": {},
   "source": [
    "#### aspect ratio"
   ]
  },
  {
   "cell_type": "code",
   "execution_count": 3,
   "id": "3db10cf9-93c5-4379-a51e-c819c00cd9ab",
   "metadata": {
    "tags": []
   },
   "outputs": [],
   "source": [
    "m=6\n",
    "spacing = 4 # > particle size\n",
    "L = m * spacing\n",
    "\n",
    "N_tot = m**3\n",
    "N_particles = N_tot\n",
    "\n",
    "x = np.linspace(-L/2, L/2, m, endpoint=False) + spacing/2\n",
    "position = list(itertools.product(x, repeat=3))[:N_particles]"
   ]
  },
  {
   "cell_type": "markdown",
   "id": "8e0c65a2-5f91-475c-af72-d6abcc682649",
   "metadata": {},
   "source": [
    "#### snapshot"
   ]
  },
  {
   "cell_type": "code",
   "execution_count": 4,
   "id": "53ab8282-6581-472f-82fa-ef2babb8f345",
   "metadata": {},
   "outputs": [],
   "source": [
    "snapshot = gsd.hoomd.Snapshot()\n",
    "snapshot.particles.types = ['A', 'B']\n",
    "snapshot.particles.typeid = [0]*108+[1]*108\n",
    "snapshot.particles.N = N_particles\n",
    "snapshot.particles.position = position\n",
    "snapshot.particles.orientation = [1, 0, 0, 0]*N_particles\n",
    "snapshot.particles.moment_inertia = [(1, 1, 1)]*N_particles\n",
    "snapshot.configuration.box = [L, L, L, 0, 0, 0]\n",
    "snapshot.particles.type_shapes = [{'type': 'ConvexPolyhedron',\n",
    "                                   'rounding_radius': 0.,\n",
    "                                   'vertices': verts}]"
   ]
  },
  {
   "cell_type": "markdown",
   "id": "c13dbf57-da07-4588-a657-00c48db7c4f0",
   "metadata": {},
   "source": [
    "#### gsd"
   ]
  },
  {
   "cell_type": "code",
   "execution_count": 5,
   "id": "b328e97a-8193-438f-be89-0088b9c5d06a",
   "metadata": {},
   "outputs": [],
   "source": [
    "with gsd.hoomd.open(name='./DATA/lattice.gsd', mode='wb') as f:\n",
    "    f.append(snapshot)"
   ]
  }
 ],
 "metadata": {
  "kernelspec": {
   "display_name": "Python 3 (ipykernel)",
   "language": "python",
   "name": "python3"
  },
  "language_info": {
   "codemirror_mode": {
    "name": "ipython",
    "version": 3
   },
   "file_extension": ".py",
   "mimetype": "text/x-python",
   "name": "python",
   "nbconvert_exporter": "python",
   "pygments_lexer": "ipython3",
   "version": "3.9.16"
  }
 },
 "nbformat": 4,
 "nbformat_minor": 5
}
