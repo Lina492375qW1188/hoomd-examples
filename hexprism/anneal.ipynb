{
 "cells": [
  {
   "cell_type": "code",
   "execution_count": 1,
   "id": "ce7e09ae-96c9-4a51-84e7-4acf6f26343f",
   "metadata": {
    "tags": []
   },
   "outputs": [],
   "source": [
    "import math\n",
    "import itertools\n",
    "import numpy as np\n",
    "\n",
    "import hoomd\n",
    "import gsd.hoomd\n",
    "import coxeter"
   ]
  },
  {
   "cell_type": "markdown",
   "id": "e8119ca3-5d9e-42de-bba0-f887cb87dde0",
   "metadata": {},
   "source": [
    "#### particle vertices, faces, and insphere radius"
   ]
  },
  {
   "cell_type": "code",
   "execution_count": 2,
   "id": "03cc4984-13d8-4f1e-bc2b-e80481dc3d2c",
   "metadata": {},
   "outputs": [],
   "source": [
    "lattice = gsd.hoomd.open('./DATA/lattice.gsd')[-1]\n",
    "verts = lattice.particles.type_shapes[0]['vertices']\n",
    "particle = coxeter.shapes.ConvexPolyhedron(verts)\n",
    "faces = particle.faces\n",
    "sigma = 2*particle.insphere_from_center.radius"
   ]
  },
  {
   "cell_type": "markdown",
   "id": "3c96c75e-e96e-4b31-bdc5-9b5616769ac9",
   "metadata": {
    "tags": []
   },
   "source": [
    "#### parameters"
   ]
  },
  {
   "cell_type": "code",
   "execution_count": 3,
   "id": "7e494320-5658-4940-8aa6-059901a80ab9",
   "metadata": {},
   "outputs": [],
   "source": [
    "# integration timestep\n",
    "dt=0.0005\n",
    "\n",
    "# coupling\n",
    "kT_init=1.\n",
    "kT_second=2.\n",
    "tau=100*dt"
   ]
  },
  {
   "cell_type": "markdown",
   "id": "777a1155-ab60-44b4-b373-f5b55b4cc625",
   "metadata": {},
   "source": [
    "#### simultaion"
   ]
  },
  {
   "cell_type": "code",
   "execution_count": 4,
   "id": "5b7dc335-2937-4c7d-bedd-db64dd2c4055",
   "metadata": {},
   "outputs": [],
   "source": [
    "cpu = hoomd.device.CPU()\n",
    "sim = hoomd.Simulation(device=cpu, seed=20)\n",
    "\n",
    "sim.create_state_from_gsd(filename='./DATA/lattice.gsd')\n",
    "sim.state.thermalize_particle_momenta(filter=hoomd.filter.All(), \n",
    "                                      kT=kT_init)"
   ]
  },
  {
   "cell_type": "markdown",
   "id": "d33bc6eb-6300-4f3a-a1ef-837dca00db84",
   "metadata": {},
   "source": [
    "#### potential"
   ]
  },
  {
   "cell_type": "code",
   "execution_count": 5,
   "id": "ec756ff6-868f-41ff-86f1-8e8995f208df",
   "metadata": {},
   "outputs": [
    {
     "name": "stderr",
     "output_type": "stream",
     "text": [
      "/Users/lina492375qw1188/opt/miniconda3/envs/alchemy/lib/python3.9/site-packages/hoomd/md/pair/aniso.py:589: FutureWarning: 'mode' key is deprectated and will be removed in hoomd 4.0.\n",
      "  warnings.warn(\n"
     ]
    }
   ],
   "source": [
    "# neighboring list\n",
    "nl = hoomd.md.nlist.Cell(buffer=0.4)\n",
    "\n",
    "# potential\n",
    "alj = hoomd.md.pair.aniso.ALJ(nl)\n",
    "alj.r_cut[('A', 'A')] = 2*particle.circumsphere_from_center.radius + 0.15*sigma\n",
    "alj.params[('A', 'A')] = dict(epsilon=0.1, \n",
    "                              sigma_i=sigma, \n",
    "                              sigma_j=sigma, \n",
    "                              alpha=0)\n",
    "alj.shape['A'] = dict(vertices=verts, \n",
    "                      faces=faces, \n",
    "                      rounding_radii=0) # rounding_radii=0.15*(sigma/2)"
   ]
  },
  {
   "cell_type": "markdown",
   "id": "1618122a-0dcb-4b2d-b229-039464798ce7",
   "metadata": {},
   "source": [
    "#### thermodynamic ensemble"
   ]
  },
  {
   "cell_type": "code",
   "execution_count": 6,
   "id": "738f532e-0994-4f75-a7e8-c235ad1ee16e",
   "metadata": {},
   "outputs": [
    {
     "name": "stderr",
     "output_type": "stream",
     "text": [
      "/Users/lina492375qw1188/opt/miniconda3/envs/alchemy/lib/python3.9/site-packages/hoomd/md/methods/methods.py:102: FutureWarning: NVT is deprecated and wil be removed in hoomd 4.0. In version 4.0, use the ConstantVolume method with the desired thermostat from hoomd.md.methods.thermostats.\n",
      "  warnings.warn(\n"
     ]
    }
   ],
   "source": [
    "t_duration=int(2e4)\n",
    "\n",
    "kT = hoomd.variant.Cycle(A=kT_init, \n",
    "                         B=kT_second, \n",
    "                         t_start=sim.timestep, \n",
    "                         t_A=t_duration, \n",
    "                         t_AB=t_duration, \n",
    "                         t_B=t_duration, \n",
    "                         t_BA=t_duration)\n",
    "\n",
    "nvt = hoomd.md.methods.NVT(filter=hoomd.filter.All(), \n",
    "                           kT=kT, \n",
    "                           tau=tau)"
   ]
  },
  {
   "cell_type": "markdown",
   "id": "52117812-09cf-42bb-84a6-879e39cee3cc",
   "metadata": {
    "tags": []
   },
   "source": [
    "#### integrator"
   ]
  },
  {
   "cell_type": "code",
   "execution_count": 7,
   "id": "144070b2-fb7b-42bc-9759-a752e00f874f",
   "metadata": {},
   "outputs": [],
   "source": [
    "integrator = hoomd.md.Integrator(dt=dt, \n",
    "                                 methods=[nvt],\n",
    "                                 forces=[alj],\n",
    "                                 integrate_rotational_dof=True)"
   ]
  },
  {
   "cell_type": "markdown",
   "id": "7fd3dff3-f05b-48d9-aa58-718ae9dbf1a9",
   "metadata": {
    "tags": []
   },
   "source": [
    "#### writer"
   ]
  },
  {
   "cell_type": "code",
   "execution_count": 8,
   "id": "a1ed3e4f-cf89-4aa1-b7fc-a06d6b1eb71c",
   "metadata": {},
   "outputs": [],
   "source": [
    "thermodynamic_properties = hoomd.md.compute.ThermodynamicQuantities(filter=hoomd.filter.All())\n",
    "\n",
    "logger = hoomd.logging.Logger()\n",
    "logger.add(sim, quantities=['timestep', 'walltime'])\n",
    "logger.add(alj, quantities=['type_shapes'])\n",
    "logger.add(thermodynamic_properties)"
   ]
  },
  {
   "cell_type": "code",
   "execution_count": 9,
   "id": "386e8b7c-be38-447e-9501-854fd89b43a4",
   "metadata": {},
   "outputs": [
    {
     "name": "stderr",
     "output_type": "stream",
     "text": [
      "/Users/lina492375qw1188/opt/miniconda3/envs/alchemy/lib/python3.9/site-packages/hoomd/write/gsd.py:183: FutureWarning: log keyword arguments passed to <hoomd.write.gsd.GSD object at 0x11e3e1610> is deprecated since v3.9.0. Use logger instead.\n",
      "  warnings.warn(\n"
     ]
    }
   ],
   "source": [
    "gsd_writer = hoomd.write.GSD(filename='./DATA/anneal.gsd',\n",
    "                             trigger=hoomd.trigger.Periodic(1000),\n",
    "                             log=logger,\n",
    "                             mode='wb')"
   ]
  },
  {
   "cell_type": "code",
   "execution_count": 10,
   "id": "c3aa1640-9655-4c52-bb3f-d4514fe879ca",
   "metadata": {},
   "outputs": [],
   "source": [
    "sim.operations.writers.append(gsd_writer)\n",
    "sim.operations.integrator = integrator\n",
    "sim.operations.computes.append(thermodynamic_properties)"
   ]
  },
  {
   "cell_type": "markdown",
   "id": "a5435a9d-949a-48de-9575-07683a314157",
   "metadata": {
    "tags": []
   },
   "source": [
    "#### run"
   ]
  },
  {
   "cell_type": "code",
   "execution_count": 11,
   "id": "667f12bf-11b6-42c9-a4a2-4bd7f6d105b7",
   "metadata": {
    "tags": []
   },
   "outputs": [
    {
     "data": {
      "text/plain": [
       "[{'type': 'ConvexPolyhedron',\n",
       "  'rounding_radius': 0.0545562,\n",
       "  'vertices': [[0.727416, 0, 0.363708],\n",
       "   [0.363708, 0.629961, 0.363708],\n",
       "   [-0.363708, 0.629961, 0.363708],\n",
       "   [-0.727416, 8.90827e-17, 0.363708],\n",
       "   [-0.363708, -0.629961, 0.363708],\n",
       "   [0.363708, -0.629961, 0.363708],\n",
       "   [0.727416, 0, -0.363708],\n",
       "   [0.363708, 0.629961, -0.363708],\n",
       "   [-0.363708, 0.629961, -0.363708],\n",
       "   [-0.727416, 8.90827e-17, -0.363708],\n",
       "   [-0.363708, -0.629961, -0.363708],\n",
       "   [0.363708, -0.629961, -0.363708]]}]"
      ]
     },
     "execution_count": 11,
     "metadata": {},
     "output_type": "execute_result"
    }
   ],
   "source": [
    "sim.run(0)\n",
    "alj.type_shapes"
   ]
  },
  {
   "cell_type": "code",
   "execution_count": 12,
   "id": "59fe4f21-c0cc-461d-a2e2-c270b9755c5a",
   "metadata": {},
   "outputs": [],
   "source": [
    "sim.run(t_duration*5)"
   ]
  }
 ],
 "metadata": {
  "kernelspec": {
   "display_name": "Python 3 (ipykernel)",
   "language": "python",
   "name": "python3"
  },
  "language_info": {
   "codemirror_mode": {
    "name": "ipython",
    "version": 3
   },
   "file_extension": ".py",
   "mimetype": "text/x-python",
   "name": "python",
   "nbconvert_exporter": "python",
   "pygments_lexer": "ipython3",
   "version": "3.9.16"
  }
 },
 "nbformat": 4,
 "nbformat_minor": 5
}
