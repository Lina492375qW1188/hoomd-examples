{
 "cells": [
  {
   "cell_type": "code",
   "execution_count": 1,
   "id": "412549e0-7884-45f3-8e5a-4d92e7e7c376",
   "metadata": {},
   "outputs": [],
   "source": [
    "import numpy as np\n",
    "\n",
    "import gsd.hoomd\n",
    "import freud"
   ]
  },
  {
   "cell_type": "markdown",
   "id": "5b5d74c4-64e7-42f6-91fe-f661a5ff2eb9",
   "metadata": {},
   "source": [
    "#### target structure of FCC"
   ]
  },
  {
   "cell_type": "code",
   "execution_count": 2,
   "id": "bd79795f-8887-4262-b099-96f8864a3315",
   "metadata": {},
   "outputs": [],
   "source": [
    "uc = freud.data.UnitCell.fcc()\n",
    "\n",
    "box, position = uc.generate_system(num_replicas=4, scale=5)\n",
    "position+=1.25\n",
    "\n",
    "N_particles = len(position)"
   ]
  },
  {
   "cell_type": "markdown",
   "id": "85f85e8e-5c29-4642-8eae-0511e3455590",
   "metadata": {},
   "source": [
    "#### creating snapshot"
   ]
  },
  {
   "cell_type": "code",
   "execution_count": 3,
   "id": "511ed0e0-9026-47b7-b67a-fd13a228a2f7",
   "metadata": {},
   "outputs": [],
   "source": [
    "snapshot = gsd.hoomd.Frame()\n",
    "snapshot.particles.types = ['A']\n",
    "snapshot.particles.N = N_particles\n",
    "snapshot.particles.typeid = [0] * N_particles\n",
    "snapshot.particles.position = position[:N_particles]\n",
    "snapshot.particles.orientation = [1, 0, 0, 0]*N_particles\n",
    "snapshot.configuration.box = [box.Lx, box.Ly, box.Lz, box.xy, box.xz, box.yz]"
   ]
  },
  {
   "cell_type": "markdown",
   "id": "67a82307-30e8-434a-bd97-1ecf8b0e2d2e",
   "metadata": {},
   "source": [
    "#### save snapshot"
   ]
  },
  {
   "cell_type": "code",
   "execution_count": 4,
   "id": "c1b1f396-5c63-47ba-85f9-a91077ab4db8",
   "metadata": {},
   "outputs": [],
   "source": [
    "with gsd.hoomd.open(name='./DATA/lattice.gsd', mode='wb') as f:\n",
    "    f.append(snapshot)"
   ]
  }
 ],
 "metadata": {
  "kernelspec": {
   "display_name": "Python 3 (ipykernel)",
   "language": "python",
   "name": "python3"
  },
  "language_info": {
   "codemirror_mode": {
    "name": "ipython",
    "version": 3
   },
   "file_extension": ".py",
   "mimetype": "text/x-python",
   "name": "python",
   "nbconvert_exporter": "python",
   "pygments_lexer": "ipython3",
   "version": "3.9.16"
  }
 },
 "nbformat": 4,
 "nbformat_minor": 5
}
