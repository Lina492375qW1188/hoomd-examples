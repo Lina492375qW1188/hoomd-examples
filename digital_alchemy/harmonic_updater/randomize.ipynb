{
 "cells": [
  {
   "cell_type": "code",
   "execution_count": 1,
   "id": "ad09768a-3f0b-49ed-a0a1-2d46d46e3e6d",
   "metadata": {
    "tags": []
   },
   "outputs": [],
   "source": [
    "import time\n",
    "import numpy as np\n",
    "\n",
    "import hoomd\n",
    "import gsd.hoomd\n",
    "\n",
    "from harmonic import HarmonicUpdater"
   ]
  },
  {
   "cell_type": "markdown",
   "id": "dd8f5f36-3b4f-4618-9a20-918f215b541e",
   "metadata": {},
   "source": [
    "#### initializing snapshot"
   ]
  },
  {
   "cell_type": "code",
   "execution_count": 2,
   "id": "f975efcb-1978-4b76-b117-bef59b63a989",
   "metadata": {},
   "outputs": [],
   "source": [
    "cpu = hoomd.device.CPU()\n",
    "sim = hoomd.Simulation(device=cpu, seed=9520)\n",
    "sim.create_state_from_gsd(filename='./DATA/lattice.gsd')"
   ]
  },
  {
   "cell_type": "markdown",
   "id": "6dc25f86-3f8b-4528-92a4-7de4526c72d2",
   "metadata": {},
   "source": [
    "#### initializing integrator"
   ]
  },
  {
   "cell_type": "code",
   "execution_count": 3,
   "id": "db0c7110-29dc-44b1-adb3-91d738bf56e4",
   "metadata": {},
   "outputs": [],
   "source": [
    "mc = hoomd.hpmc.integrate.Sphere(default_d=0.3, default_a=0.4)\n",
    "mc.shape[\"A\"] = dict(diameter=1.0)"
   ]
  },
  {
   "cell_type": "markdown",
   "id": "06e231f9-b7bd-411b-b5d8-63ef123ba428",
   "metadata": {},
   "source": [
    "#### harmonic constraint"
   ]
  },
  {
   "cell_type": "code",
   "execution_count": 4,
   "id": "5a88b7e1-275c-4ef5-951c-8d1019896334",
   "metadata": {},
   "outputs": [],
   "source": [
    "lattice = gsd.hoomd.open('./DATA/lattice.gsd', 'rb')\n",
    "pos = lattice[0].particles.position\n",
    "ori = lattice[0].particles.orientation\n",
    "box = lattice[0].configuration.box\n",
    "\n",
    "k_init=30\n",
    "k_second=20\n",
    "\n",
    "k_rot_init=10\n",
    "k_rot_second=0\n",
    "\n",
    "t_ramp=int(1e5)\n",
    "k_trans = hoomd.variant.Power(A=k_init, \n",
    "                              B=k_second,\n",
    "                              power=1,\n",
    "                              t_start=sim.timestep, \n",
    "                              t_ramp=t_ramp)\n",
    "k_rot = hoomd.variant.Power(A=k_rot_init, \n",
    "                            B=k_rot_second,\n",
    "                            power=1,\n",
    "                            t_start=sim.timestep, \n",
    "                            t_ramp=t_ramp)\n",
    "\n",
    "\n",
    "\n",
    "harmonic = hoomd.hpmc.external.field.Harmonic(reference_positions=pos,\n",
    "                                              reference_orientations=ori,\n",
    "                                              k_translational=k_trans,\n",
    "                                              k_rotational=k_rot,\n",
    "                                              symmetries=ori)\n",
    "mc.external_potential=harmonic"
   ]
  },
  {
   "cell_type": "markdown",
   "id": "c84dda05-919a-4d5f-81a2-1d5856b65c02",
   "metadata": {},
   "source": [
    "#### harmonic updater"
   ]
  },
  {
   "cell_type": "code",
   "execution_count": null,
   "id": "e54853e7-829c-4548-8a45-b082508ec886",
   "metadata": {},
   "outputs": [],
   "source": [
    "harmonicupdater = hoomd.update.CustomUpdater(action=HarmonicUpdater(ref_pos=pos, \n",
    "                                                                    init_size=box[0]), trigger=1)"
   ]
  },
  {
   "cell_type": "markdown",
   "id": "3e88f221-8e26-47ce-8198-90f04551ff1d",
   "metadata": {},
   "source": [
    "#### constant pressure updater"
   ]
  },
  {
   "cell_type": "code",
   "execution_count": 5,
   "id": "91fab945-9e2e-4408-855c-78a4e711e67b",
   "metadata": {},
   "outputs": [],
   "source": [
    "boxmc = hoomd.hpmc.update.BoxMC(trigger=hoomd.trigger.Periodic(10),\n",
    "                                   betaP=8.0)\n",
    "\n",
    "boxmc.volume['weight']=1.0\n",
    "boxmc.volume['mode']='standard'\n",
    "boxmc.volume['delta']=0.1\n",
    "\n",
    "tune_boxmc = hoomd.hpmc.tune.BoxMCMoveSize.scale_solver(boxmc=boxmc,\n",
    "                                                        trigger=hoomd.trigger.Periodic(100),\n",
    "                                                        moves=['volume'],\n",
    "                                                        target=0.2,\n",
    "                                                        max_move_size={'volume':1})"
   ]
  },
  {
   "cell_type": "markdown",
   "id": "0994728a-56df-4b83-8cf2-07b8f1eb1ed7",
   "metadata": {},
   "source": [
    "#### logger for writing gsd"
   ]
  },
  {
   "cell_type": "code",
   "execution_count": 7,
   "id": "ba97ed4a-5289-405b-bfd8-ca1dcd4a9888",
   "metadata": {},
   "outputs": [
    {
     "name": "stderr",
     "output_type": "stream",
     "text": [
      "/Users/lina492375qw1188/opt/miniconda3/envs/alchemy/lib/python3.9/site-packages/hoomd/write/gsd.py:286: FutureWarning: log property is deprecated since v3.9.0. Use logger instead.\n",
      "  warnings.warn(\n"
     ]
    }
   ],
   "source": [
    "logger = hoomd.logging.Logger()\n",
    "logger.add(mc, quantities=['type_shapes'])\n",
    "logger.add(harmonicupdater, quantities=['rescale_factor', 'boxsize_t'])\n",
    "\n",
    "gsd_writer = hoomd.write.GSD(filename='./DATA/trajectory.gsd',\n",
    "                             trigger=hoomd.trigger.Periodic(10),\n",
    "                             mode='wb',\n",
    "                             filter=hoomd.filter.All())\n",
    "gsd_writer.log=logger"
   ]
  },
  {
   "cell_type": "markdown",
   "id": "8bade5dc-85ba-4a13-9923-6b537de58593",
   "metadata": {},
   "source": [
    "#### attaching operations"
   ]
  },
  {
   "cell_type": "code",
   "execution_count": 8,
   "id": "30a32a11-216b-40b4-b3b9-03839184a660",
   "metadata": {},
   "outputs": [],
   "source": [
    "sim.operations.writers.append(gsd_writer)\n",
    "sim.operations.integrator = mc\n",
    "sim.operations.updaters.append(harmonicupdater)\n",
    "sim.operations.updaters.append(boxmc)\n",
    "sim.operations.tuners.append(tune_boxmc)"
   ]
  },
  {
   "cell_type": "markdown",
   "id": "3bb63870-f34a-455a-8faf-beb3121d44a7",
   "metadata": {
    "tags": []
   },
   "source": [
    "#### run simulation"
   ]
  },
  {
   "cell_type": "code",
   "execution_count": 9,
   "id": "d09f5c05-584e-4fcd-bec0-7af5e7e94d9a",
   "metadata": {
    "tags": []
   },
   "outputs": [
    {
     "name": "stdout",
     "output_type": "stream",
     "text": [
      "Time elapsed 2.814073085784912\n"
     ]
    }
   ],
   "source": [
    "start = time.time()\n",
    "\n",
    "sim.run(1e3)\n",
    "\n",
    "print('Time elapsed', time.time()-start)"
   ]
  },
  {
   "cell_type": "markdown",
   "id": "5006c31a-c192-48d8-8d8d-923218de54a6",
   "metadata": {},
   "source": [
    "#### Read trajectory"
   ]
  },
  {
   "cell_type": "code",
   "execution_count": 11,
   "id": "c313dc24-828d-4b06-a8dc-da599db12c7d",
   "metadata": {
    "tags": []
   },
   "outputs": [],
   "source": [
    "traj = gsd.hoomd.open('./DATA/trajectory.gsd', 'rb')"
   ]
  },
  {
   "cell_type": "code",
   "execution_count": 12,
   "id": "231c4791-3fdf-478b-b2f8-f1b20cf3c703",
   "metadata": {
    "tags": []
   },
   "outputs": [],
   "source": [
    "rescale_arr = []\n",
    "boxsize_arr = []\n",
    "for frame in traj:\n",
    "    rescale_arr.append( frame.log['harmonic/HarmonicUpdater/rescale_factor'] )\n",
    "    boxsize_arr.append( frame.log['harmonic/HarmonicUpdater/boxsize_t'] )\n",
    "    \n",
    "rescale_arr = np.array(rescale_arr)\n",
    "boxsize_arr = np.array(boxsize_arr)"
   ]
  },
  {
   "cell_type": "code",
   "execution_count": 16,
   "id": "31c14276-9c53-499a-a436-774b765f1269",
   "metadata": {
    "tags": []
   },
   "outputs": [
    {
     "data": {
      "image/png": "[encoded data removed]",
      "text/plain": [
       "<Figure size 640x480 with 1 Axes>"
      ]
     },
     "metadata": {},
     "output_type": "display_data"
    }
   ],
   "source": [
    "import matplotlib.pyplot as plt\n",
    "\n",
    "plt.plot(rescale_arr, 'r-', label='rescale factor')\n",
    "plt.plot(boxsize_arr/box[0], 'x', label='boxsize ratio')\n",
    "\n",
    "plt.xlabel('timestep')\n",
    "plt.legend()\n",
    "plt.show()"
   ]
  }
 ],
 "metadata": {
  "kernelspec": {
   "display_name": "Python 3 (ipykernel)",
   "language": "python",
   "name": "python3"
  },
  "language_info": {
   "codemirror_mode": {
    "name": "ipython",
    "version": 3
   },
   "file_extension": ".py",
   "mimetype": "text/x-python",
   "name": "python",
   "nbconvert_exporter": "python",
   "pygments_lexer": "ipython3",
   "version": "3.9.16"
  }
 },
 "nbformat": 4,
 "nbformat_minor": 5
}
