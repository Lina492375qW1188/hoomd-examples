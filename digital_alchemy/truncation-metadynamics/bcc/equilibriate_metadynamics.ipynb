{
 "cells": [
  {
   "cell_type": "code",
   "execution_count": 1,
   "id": "5789e485-2621-4282-a687-f0ce1aa951a9",
   "metadata": {},
   "outputs": [],
   "source": [
    "import os\n",
    "import time\n",
    "import numpy as np\n",
    "\n",
    "import hoomd\n",
    "import gsd.hoomd\n",
    "import coxeter\n",
    "\n",
    "from meta_alchemy import MetaAlchemUpdater"
   ]
  },
  {
   "cell_type": "markdown",
   "id": "fbbb3b53-0503-4935-8311-afa30e2d8992",
   "metadata": {},
   "source": [
    "#### initializing snapshot"
   ]
  },
  {
   "cell_type": "code",
   "execution_count": 2,
   "id": "6c01840a-175f-4d32-8242-d80c94ee4668",
   "metadata": {},
   "outputs": [],
   "source": [
    "cpu = hoomd.device.CPU()\n",
    "sim = hoomd.Simulation(device=cpu, seed=9520)\n",
    "sim.create_state_from_gsd(filename='./DATA/compress.gsd', frame=-1)"
   ]
  },
  {
   "cell_type": "markdown",
   "id": "d91fde84-8b0f-4606-9c9b-1dac8cbacc41",
   "metadata": {},
   "source": [
    "#### initializing integrator"
   ]
  },
  {
   "cell_type": "code",
   "execution_count": 3,
   "id": "5fcc381f-4b5e-42e3-ab51-665d97db7fa0",
   "metadata": {},
   "outputs": [],
   "source": [
    "alpha_init=1.0\n",
    "family323 = coxeter.families.Family323Plus()\n",
    "particle = family323.get_shape(a=alpha_init, c=0.2*alpha_init+0.8)\n",
    "verts = particle.vertices/particle.volume**(1/3)\n",
    "\n",
    "mc = hoomd.hpmc.integrate.ConvexPolyhedron()\n",
    "mc.shape[\"A\"] = dict(vertices=verts)"
   ]
  },
  {
   "cell_type": "markdown",
   "id": "32766509-dbb8-4789-9ad8-b7879c639f8d",
   "metadata": {},
   "source": [
    "#### harmonic constraint"
   ]
  },
  {
   "cell_type": "code",
   "execution_count": 4,
   "id": "ca2cb87d-6df0-4a73-a4ba-b48ebedeca33",
   "metadata": {},
   "outputs": [],
   "source": [
    "target = gsd.hoomd.open('./DATA/lattice.gsd', 'r')[-1]\n",
    "pos = target.particles.position\n",
    "ori = target.particles.orientation\n",
    "box = target.configuration.box\n",
    "\n",
    "last_frame = sim._state.get_snapshot()\n",
    "last_box = last_frame.configuration.box\n",
    "\n",
    "rescale = last_box[0]/box[0]\n",
    "pos = rescale*pos\n",
    "\n",
    "k_init=20\n",
    "k_second=0\n",
    "\n",
    "k_rot_init=10\n",
    "k_rot_second=0\n",
    "\n",
    "t_ramp=int(1e5)\n",
    "k_trans = hoomd.variant.Ramp(A=k_init, \n",
    "                              B=k_second,\n",
    "                              t_start=sim.timestep, \n",
    "                              t_ramp=t_ramp)\n",
    "k_rot = hoomd.variant.Ramp(A=k_rot_init, \n",
    "                            B=k_rot_second,\n",
    "                            t_start=sim.timestep, \n",
    "                            t_ramp=t_ramp)\n",
    "\n",
    "harmonic = hoomd.hpmc.external.field.Harmonic(reference_positions=pos,\n",
    "                                              reference_orientations=ori,\n",
    "                                              k_translational=k_trans,\n",
    "                                              k_rotational=k_rot,\n",
    "                                              symmetries=ori)\n",
    "mc.external_potential=harmonic"
   ]
  },
  {
   "cell_type": "markdown",
   "id": "757c9a54-f3a4-4dc6-bb7d-a0dc9ae8e4fa",
   "metadata": {},
   "source": [
    "#### alchemical updater"
   ]
  },
  {
   "cell_type": "code",
   "execution_count": 5,
   "id": "76e988ed-7168-42de-a24f-bc0688dbbbd2",
   "metadata": {},
   "outputs": [],
   "source": [
    "rng = np.random.default_rng(1234) # random generator\n",
    "alchemupdater = hoomd.update.CustomUpdater(action=MetaAlchemUpdater(stepsize=0.005, \n",
    "                                                                    rng=rng,\n",
    "                                                                    alpha_init=alpha_init), trigger=1)\n",
    "metad_seed=59221\n",
    "alchemupdater.set_metad_param(rng=np.random.default_rng(metad_seed),\n",
    "                              h0=0.1,\n",
    "                              sigma=0.02,\n",
    "                              T=1.0,\n",
    "                              dT=8.0,\n",
    "                              stride=100,\n",
    "                              calc_ebetac=False)"
   ]
  },
  {
   "cell_type": "markdown",
   "id": "6bae2e06-21b3-46e2-aaeb-6ff762cb88f2",
   "metadata": {},
   "source": [
    "#### write"
   ]
  },
  {
   "cell_type": "code",
   "execution_count": 6,
   "id": "6f7646f3-41b8-41f4-9153-e7e460091b53",
   "metadata": {},
   "outputs": [],
   "source": [
    "logger = hoomd.logging.Logger()\n",
    "logger.add(mc, quantities=['type_shapes'])\n",
    "logger.add(alchemupdater, quantities=['alpha', 'vbias'])\n",
    "\n",
    "gsd_writer = hoomd.write.GSD(filename='./DATA/trajectory.gsd',\n",
    "                             trigger=hoomd.trigger.Periodic(100),\n",
    "                             mode='wb',\n",
    "                             filter=hoomd.filter.All())\n",
    "gsd_writer.logger=logger"
   ]
  },
  {
   "cell_type": "markdown",
   "id": "54da7f5e-33e6-4028-b186-7e7f2f78962e",
   "metadata": {
    "tags": []
   },
   "source": [
    "#### attaching operations"
   ]
  },
  {
   "cell_type": "code",
   "execution_count": 7,
   "id": "7b108662-a54e-4cad-8327-20676a8f318c",
   "metadata": {},
   "outputs": [],
   "source": [
    "sim.operations.writers.append(gsd_writer)\n",
    "sim.operations.integrator = mc\n",
    "sim.operations.updaters.append(alchemupdater)"
   ]
  },
  {
   "cell_type": "markdown",
   "id": "8b6658c1-1cd6-4018-9e6a-c75777617dd3",
   "metadata": {},
   "source": [
    "#### run simulation"
   ]
  },
  {
   "cell_type": "code",
   "execution_count": 8,
   "id": "ed77cfa6-4628-4a32-a94f-5a69efeb9695",
   "metadata": {},
   "outputs": [
    {
     "name": "stderr",
     "output_type": "stream",
     "text": [
      "/Users/lina492375qw1188/opt/miniconda3/envs/alchemy/lib/python3.11/site-packages/hoomd/data/collections.py:241: IsolationWarning: The data structure is removed from its original data source, and updates will no longer modify the previously composing object. Call obj.to_base() to remove this warning.\n",
      "  warnings.warn(hoomd.error.IsolationWarning())\n"
     ]
    },
    {
     "name": "stdout",
     "output_type": "stream",
     "text": [
      "Time elapsed 193.6946940422058\n"
     ]
    }
   ],
   "source": [
    "start = time.time()\n",
    "\n",
    "sim.run(1e4)\n",
    "\n",
    "print('Time elapsed', time.time()-start)"
   ]
  },
  {
   "cell_type": "markdown",
   "id": "11f67f9b-2682-40d3-934d-089ad760344b",
   "metadata": {
    "tags": []
   },
   "source": [
    "#### check overlaps"
   ]
  },
  {
   "cell_type": "code",
   "execution_count": 9,
   "id": "06fe6e35-6000-4aab-84c4-6ef44216c732",
   "metadata": {
    "tags": []
   },
   "outputs": [
    {
     "name": "stdout",
     "output_type": "stream",
     "text": [
      "0 (3937, 6063)\n"
     ]
    }
   ],
   "source": [
    "print(mc.overlaps, alchemupdater.alchem_moves)"
   ]
  },
  {
   "cell_type": "code",
   "execution_count": 10,
   "id": "b05b495a-cde5-4a71-9988-faef1a794620",
   "metadata": {},
   "outputs": [],
   "source": [
    "gsd_writer.flush()"
   ]
  }
 ],
 "metadata": {
  "kernelspec": {
   "display_name": "Python 3 (ipykernel)",
   "language": "python",
   "name": "python3"
  },
  "language_info": {
   "codemirror_mode": {
    "name": "ipython",
    "version": 3
   },
   "file_extension": ".py",
   "mimetype": "text/x-python",
   "name": "python",
   "nbconvert_exporter": "python",
   "pygments_lexer": "ipython3",
   "version": "3.11.6"
  }
 },
 "nbformat": 4,
 "nbformat_minor": 5
}
