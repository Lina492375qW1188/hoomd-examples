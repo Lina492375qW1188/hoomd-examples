{
 "cells": [
  {
   "cell_type": "code",
   "execution_count": 1,
   "id": "01fa2958-3cd2-4875-8353-f9bfe4f6f794",
   "metadata": {
    "tags": []
   },
   "outputs": [],
   "source": [
    "import itertools\n",
    "import numpy as np\n",
    "import matplotlib.pyplot as plt\n",
    "\n",
    "import hoomd\n",
    "import gsd.hoomd\n",
    "import freud\n",
    "import coxeter"
   ]
  },
  {
   "cell_type": "markdown",
   "id": "d25a0d1a-3a38-4d5f-8dff-ad8c08c46e00",
   "metadata": {},
   "source": [
    "#### creating unit volume particles"
   ]
  },
  {
   "cell_type": "code",
   "execution_count": 2,
   "id": "5f4a1e85-79cc-4ded-a281-98a556ae69c5",
   "metadata": {
    "tags": []
   },
   "outputs": [
    {
     "data": {
      "text/plain": [
       "1.0"
      ]
     },
     "execution_count": 2,
     "metadata": {},
     "output_type": "execute_result"
    }
   ],
   "source": [
    "alpha=1.0\n",
    "family323 = coxeter.families.Family323Plus()\n",
    "particle = family323.get_shape(a=alpha, c=0.2*alpha+0.8)\n",
    "verts = particle.vertices/particle.volume**(1/3)\n",
    "\n",
    "new_particle = coxeter.shapes.ConvexPolyhedron(verts)\n",
    "new_particle.volume"
   ]
  },
  {
   "cell_type": "markdown",
   "id": "89bb7bb5-bcd5-4d9c-9fb1-82b8037e54e1",
   "metadata": {},
   "source": [
    "#### target crystal"
   ]
  },
  {
   "cell_type": "code",
   "execution_count": 3,
   "id": "8a0cd227-8451-47ca-8cfe-13e0337b4394",
   "metadata": {
    "tags": []
   },
   "outputs": [],
   "source": [
    "uc = freud.data.UnitCell.bcc()\n",
    "\n",
    "box, position = uc.generate_system(num_replicas=4, scale=2)\n",
    "position+=0.5\n",
    "\n",
    "N_particles = len(position)"
   ]
  },
  {
   "cell_type": "markdown",
   "id": "5cd2891e-3526-4ab9-ab6d-c9cd88e6c07d",
   "metadata": {},
   "source": [
    "#### creating snapshot"
   ]
  },
  {
   "cell_type": "code",
   "execution_count": 4,
   "id": "a953f188-da0c-4c83-8c40-650229e35073",
   "metadata": {},
   "outputs": [],
   "source": [
    "snapshot = gsd.hoomd.Frame()\n",
    "snapshot.particles.types = ['A']\n",
    "snapshot.particles.N = N_particles\n",
    "snapshot.particles.typeid = [0] * N_particles\n",
    "snapshot.particles.position = position[:N_particles]\n",
    "snapshot.particles.orientation = [1, 0, 0, 0]*N_particles\n",
    "\n",
    "verts = verts.tolist()\n",
    "snapshot.particles.type_shapes = [{'type': 'ConvexPolyhedron',\n",
    "                                   'vertices': verts}]\n",
    "\n",
    "snapshot.configuration.box = [box.Lx, box.Ly, box.Lz, box.xy, box.xz, box.yz]"
   ]
  },
  {
   "cell_type": "markdown",
   "id": "dbb23928-13ed-4e65-94e9-ebe9c835a478",
   "metadata": {},
   "source": [
    "#### save snapshot"
   ]
  },
  {
   "cell_type": "code",
   "execution_count": 5,
   "id": "239d06f3-2568-45fe-9957-66931350cb7f",
   "metadata": {},
   "outputs": [],
   "source": [
    "with gsd.hoomd.open(name='./DATA/lattice.gsd', mode='w') as f:\n",
    "    f.append(snapshot)"
   ]
  }
 ],
 "metadata": {
  "kernelspec": {
   "display_name": "Python 3 (ipykernel)",
   "language": "python",
   "name": "python3"
  },
  "language_info": {
   "codemirror_mode": {
    "name": "ipython",
    "version": 3
   },
   "file_extension": ".py",
   "mimetype": "text/x-python",
   "name": "python",
   "nbconvert_exporter": "python",
   "pygments_lexer": "ipython3",
   "version": "3.11.6"
  }
 },
 "nbformat": 4,
 "nbformat_minor": 5
}
