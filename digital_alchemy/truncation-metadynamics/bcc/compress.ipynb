{
 "cells": [
  {
   "cell_type": "code",
   "execution_count": 1,
   "id": "c79c7b18-f3a1-4c42-9363-9864a816102c",
   "metadata": {
    "tags": []
   },
   "outputs": [],
   "source": [
    "import time\n",
    "import numpy as np\n",
    "\n",
    "import hoomd\n",
    "import gsd.hoomd\n",
    "import coxeter\n",
    "\n",
    "from harmonic import HarmonicUpdater"
   ]
  },
  {
   "cell_type": "markdown",
   "id": "5ca9df2f-9f42-45c3-9a54-e3b78e9fcfbd",
   "metadata": {},
   "source": [
    "#### initializing snapshot"
   ]
  },
  {
   "cell_type": "code",
   "execution_count": 2,
   "id": "e7209c2f-8266-4a18-8cf5-e61bba3b03b0",
   "metadata": {
    "tags": []
   },
   "outputs": [],
   "source": [
    "cpu = hoomd.device.CPU()\n",
    "sim = hoomd.Simulation(device=cpu, seed=9520)\n",
    "sim.create_state_from_gsd(filename='./DATA/lattice.gsd')"
   ]
  },
  {
   "cell_type": "markdown",
   "id": "56c01cd5-6226-4260-be32-2c068632503f",
   "metadata": {},
   "source": [
    "#### initializing integrator"
   ]
  },
  {
   "cell_type": "code",
   "execution_count": 3,
   "id": "7bb30974-16db-4e2a-9094-dad57bbd2044",
   "metadata": {
    "tags": []
   },
   "outputs": [],
   "source": [
    "alpha_init=1.0\n",
    "family323 = coxeter.families.Family323Plus()\n",
    "particle = family323.get_shape(a=alpha_init, c=0.2*alpha_init+0.8)\n",
    "verts = particle.vertices/particle.volume**(1/3)\n",
    "\n",
    "mc = hoomd.hpmc.integrate.ConvexPolyhedron()\n",
    "mc.shape[\"A\"] = dict(vertices=verts)"
   ]
  },
  {
   "cell_type": "markdown",
   "id": "877adbec-01bd-4fd5-a645-12fcd41a6ea8",
   "metadata": {},
   "source": [
    "#### harmonic constraint"
   ]
  },
  {
   "cell_type": "code",
   "execution_count": 4,
   "id": "30ce05e5-10a4-4200-8b03-48e9c3435af5",
   "metadata": {
    "tags": []
   },
   "outputs": [],
   "source": [
    "target = gsd.hoomd.open('./DATA/lattice.gsd', 'r')[-1]\n",
    "pos = target.particles.position\n",
    "ori = target.particles.orientation\n",
    "box = target.configuration.box\n",
    "\n",
    "k_init=20\n",
    "k_rot_init=10\n",
    "\n",
    "harmonic = hoomd.hpmc.external.field.Harmonic(reference_positions=pos,\n",
    "                                              reference_orientations=ori,\n",
    "                                              k_translational=k_init,\n",
    "                                              k_rotational=k_rot_init,\n",
    "                                              symmetries=ori)\n",
    "mc.external_potential=harmonic"
   ]
  },
  {
   "cell_type": "markdown",
   "id": "8bd1d7c8-b35b-4931-b222-f51809a6534e",
   "metadata": {},
   "source": [
    "#### harmonic updater"
   ]
  },
  {
   "cell_type": "code",
   "execution_count": 5,
   "id": "2e905627-b973-4c45-9470-e9d22bce86fb",
   "metadata": {
    "tags": []
   },
   "outputs": [],
   "source": [
    "harmonicupdater = hoomd.update.CustomUpdater(action=HarmonicUpdater(ref_pos=pos, \n",
    "                                                                    init_size=box[0]), trigger=1)"
   ]
  },
  {
   "cell_type": "markdown",
   "id": "5cb7e8db-7f31-4b2a-ab5d-b101e1b17496",
   "metadata": {},
   "source": [
    "#### quick compress"
   ]
  },
  {
   "cell_type": "code",
   "execution_count": 6,
   "id": "1cceb517-c294-4545-a8c4-077f5a9d41f6",
   "metadata": {},
   "outputs": [],
   "source": [
    "final_volume_fraction = 0.57\n",
    "\n",
    "initial_box = sim.state.box\n",
    "final_box = hoomd.Box.from_box(initial_box)\n",
    "V_particle = 1\n",
    "final_box.volume = sim.state.N_particles * V_particle / final_volume_fraction\n",
    "compress = hoomd.hpmc.update.QuickCompress(trigger=hoomd.trigger.Periodic(1000),\n",
    "                                           target_box=final_box)\n",
    "\n",
    "periodic = hoomd.trigger.Periodic(10)\n",
    "tune = hoomd.hpmc.tune.MoveSize.scale_solver(moves=['a', 'd'],\n",
    "                                             target=0.2,\n",
    "                                             trigger=periodic,\n",
    "                                             max_translation_move=0.2,\n",
    "                                             max_rotation_move=0.2)"
   ]
  },
  {
   "cell_type": "markdown",
   "id": "d7b43ace-e381-408f-b1a1-ff5e3cd981fd",
   "metadata": {
    "tags": []
   },
   "source": [
    "#### write"
   ]
  },
  {
   "cell_type": "code",
   "execution_count": 7,
   "id": "53e8dfd5-ed59-4843-aba0-ddf433f28830",
   "metadata": {
    "tags": []
   },
   "outputs": [],
   "source": [
    "logger = hoomd.logging.Logger()\n",
    "logger.add(mc, quantities=['type_shapes'])\n",
    "\n",
    "gsd_writer = hoomd.write.GSD(filename='./DATA/compress.gsd',\n",
    "                             trigger=hoomd.trigger.Periodic(1000),\n",
    "                             mode='wb',\n",
    "                             filter=hoomd.filter.All())\n",
    "gsd_writer.logger=logger"
   ]
  },
  {
   "cell_type": "markdown",
   "id": "e5253d0f-bd65-4b59-862e-5638c7d6d669",
   "metadata": {},
   "source": [
    "#### attaching operations"
   ]
  },
  {
   "cell_type": "code",
   "execution_count": 8,
   "id": "00acad4e-fbb2-4408-86c8-147d5e8c01fd",
   "metadata": {},
   "outputs": [],
   "source": [
    "sim.operations.writers.append(gsd_writer)\n",
    "sim.operations.integrator = mc\n",
    "sim.operations.updaters.append(harmonicupdater)\n",
    "sim.operations.updaters.append(compress)\n",
    "sim.operations.tuners.append(tune)"
   ]
  },
  {
   "cell_type": "markdown",
   "id": "396e1907-eb32-4da4-bfa0-9d2267a491bc",
   "metadata": {},
   "source": [
    "#### run"
   ]
  },
  {
   "cell_type": "code",
   "execution_count": 9,
   "id": "7e91c385-a655-45ec-8600-468a72b14f48",
   "metadata": {},
   "outputs": [],
   "source": [
    "while not compress.complete and sim.timestep < 1e6:\n",
    "    sim.run(1000)"
   ]
  },
  {
   "cell_type": "markdown",
   "id": "fdaa880c-7b3a-4dea-85da-9841a0f3efc8",
   "metadata": {},
   "source": [
    "#### check compress"
   ]
  },
  {
   "cell_type": "code",
   "execution_count": 10,
   "id": "fdc3ebf7-c418-4e9e-b318-9ec256adc96c",
   "metadata": {},
   "outputs": [],
   "source": [
    "if not compress.complete:\n",
    "    raise RuntimeError(\"Compression failed to complete\")"
   ]
  },
  {
   "cell_type": "code",
   "execution_count": 11,
   "id": "25b5f3fe-4948-4da6-8a4d-7826c4ea74f6",
   "metadata": {
    "tags": []
   },
   "outputs": [
    {
     "data": {
      "text/plain": [
       "0"
      ]
     },
     "execution_count": 11,
     "metadata": {},
     "output_type": "execute_result"
    }
   ],
   "source": [
    "mc.overlaps"
   ]
  },
  {
   "cell_type": "code",
   "execution_count": 12,
   "id": "7f5e4885-8bd9-4163-a2e6-ad2095b3fd29",
   "metadata": {},
   "outputs": [],
   "source": [
    "gsd_writer.flush()"
   ]
  }
 ],
 "metadata": {
  "kernelspec": {
   "display_name": "Python 3 (ipykernel)",
   "language": "python",
   "name": "python3"
  },
  "language_info": {
   "codemirror_mode": {
    "name": "ipython",
    "version": 3
   },
   "file_extension": ".py",
   "mimetype": "text/x-python",
   "name": "python",
   "nbconvert_exporter": "python",
   "pygments_lexer": "ipython3",
   "version": "3.11.6"
  }
 },
 "nbformat": 4,
 "nbformat_minor": 5
}
