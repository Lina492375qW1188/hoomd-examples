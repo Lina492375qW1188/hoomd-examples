{
 "cells": [
  {
   "cell_type": "code",
   "execution_count": 1,
   "id": "ce40e2f7-357e-4b5f-8d69-3d87fead6114",
   "metadata": {},
   "outputs": [],
   "source": [
    "import time\n",
    "import numpy as np\n",
    "import matplotlib.pyplot as plt\n",
    "\n",
    "import hoomd\n",
    "import gsd.hoomd\n",
    "import coxeter\n",
    "\n",
    "from alchemy import AlchemUpdater\n",
    "from harmonic import HarmonicUpdater"
   ]
  },
  {
   "cell_type": "markdown",
   "id": "5468f6ea-03a6-45dc-a4de-42544fb8b679",
   "metadata": {},
   "source": [
    "#### initializing snapshot"
   ]
  },
  {
   "cell_type": "code",
   "execution_count": 2,
   "id": "f8232a07-a60d-4d39-ba26-c408f85d47b8",
   "metadata": {},
   "outputs": [],
   "source": [
    "cpu = hoomd.device.CPU()\n",
    "sim = hoomd.Simulation(device=cpu, seed=9520)\n",
    "sim.create_state_from_gsd(filename='./DATA/lattice.gsd')"
   ]
  },
  {
   "cell_type": "markdown",
   "id": "68477b3c-32d7-48bd-92e3-5e66d0451f68",
   "metadata": {},
   "source": [
    "#### initializing integrator"
   ]
  },
  {
   "cell_type": "code",
   "execution_count": 3,
   "id": "cc1c8626-e3ed-4e1b-8d81-f95a15fc1264",
   "metadata": {},
   "outputs": [],
   "source": [
    "alpha_init = 0.5\n",
    "platonic = coxeter.families.TruncatedTetrahedronFamily()\n",
    "particle = platonic.get_shape(truncation=alpha_init)\n",
    "verts = particle.vertices/particle.volume**(1/3)\n",
    "\n",
    "mc = hoomd.hpmc.integrate.ConvexPolyhedron()\n",
    "mc.shape[\"A\"] = dict(vertices=verts)"
   ]
  },
  {
   "cell_type": "markdown",
   "id": "3ef2326c-a3ba-4507-910a-b4c2d4a1e6ed",
   "metadata": {},
   "source": [
    "#### harmonic constraint"
   ]
  },
  {
   "cell_type": "code",
   "execution_count": 4,
   "id": "2dc7df5c-df4a-4c20-bb2e-3f5caf74ff92",
   "metadata": {},
   "outputs": [],
   "source": [
    "lattice = gsd.hoomd.open('./DATA/lattice.gsd', 'rb')\n",
    "pos = lattice[0].particles.position\n",
    "ori = lattice[0].particles.orientation\n",
    "box = lattice[0].configuration.box\n",
    "\n",
    "k_init=30\n",
    "k_second=20\n",
    "\n",
    "k_rot_init=10\n",
    "k_rot_second=0\n",
    "\n",
    "t_ramp=int(1e5)\n",
    "k_trans = hoomd.variant.Power(A=k_init, \n",
    "                              B=k_second,\n",
    "                              power=1,\n",
    "                              t_start=sim.timestep, \n",
    "                              t_ramp=t_ramp)\n",
    "k_rot = hoomd.variant.Power(A=k_rot_init, \n",
    "                            B=k_rot_second,\n",
    "                            power=1,\n",
    "                            t_start=sim.timestep, \n",
    "                            t_ramp=t_ramp)\n",
    "\n",
    "harmonic = hoomd.hpmc.external.field.Harmonic(reference_positions=pos,\n",
    "                                              reference_orientations=ori,\n",
    "                                              k_translational=k_trans,\n",
    "                                              k_rotational=k_rot,\n",
    "                                              symmetries=ori)\n",
    "mc.external_potential=harmonic"
   ]
  },
  {
   "cell_type": "markdown",
   "id": "b05e42fe-a724-453a-8023-adf14bdeed02",
   "metadata": {},
   "source": [
    "#### harmonic updater"
   ]
  },
  {
   "cell_type": "code",
   "execution_count": 5,
   "id": "83d3c40f-b1a7-4a07-92b3-6cac8b9b7505",
   "metadata": {},
   "outputs": [],
   "source": [
    "harmonicupdater = hoomd.update.CustomUpdater(action=HarmonicUpdater(ref_pos=pos, \n",
    "                                                                    init_size=box[0]), trigger=1)"
   ]
  },
  {
   "cell_type": "markdown",
   "id": "9bbf4f47-6f4e-4bb7-9162-80e880ac6750",
   "metadata": {},
   "source": [
    "#### constant pressure updater"
   ]
  },
  {
   "cell_type": "code",
   "execution_count": 6,
   "id": "2747a054-e546-4410-acdd-ab75eb41047f",
   "metadata": {},
   "outputs": [],
   "source": [
    "boxmc = hoomd.hpmc.update.BoxMC(trigger=hoomd.trigger.Periodic(10),\n",
    "                                   betaP=15.0)\n",
    "\n",
    "boxmc.volume['weight']=1.0\n",
    "boxmc.volume['mode']='standard'\n",
    "boxmc.volume['delta']=0.1\n",
    "\n",
    "tune_boxmc = hoomd.hpmc.tune.BoxMCMoveSize.scale_solver(boxmc=boxmc,\n",
    "                                                  trigger=hoomd.trigger.Periodic(100),\n",
    "                                                  moves=['volume'],\n",
    "                                                  target=0.2,\n",
    "                                                  max_move_size={'volume':1})"
   ]
  },
  {
   "cell_type": "markdown",
   "id": "1671952e-d50b-4ca1-b1f7-5b407c55a4ee",
   "metadata": {},
   "source": [
    "#### alchemical updater"
   ]
  },
  {
   "cell_type": "code",
   "execution_count": 7,
   "id": "bcf1390d-a348-4423-8c66-d57aabc8e3b6",
   "metadata": {},
   "outputs": [],
   "source": [
    "rng = np.random.default_rng(1234) # random generator\n",
    "alchemupdater = hoomd.update.CustomUpdater(action=AlchemUpdater(stepsize=0.001, \n",
    "                                                                rng=rng,\n",
    "                                                                alpha_init=alpha_init), trigger=1)\n"
   ]
  },
  {
   "cell_type": "markdown",
   "id": "b8cda95e-a54f-414e-a1fd-58aeafb5e3d9",
   "metadata": {},
   "source": [
    "#### logger for writing gsd"
   ]
  },
  {
   "cell_type": "code",
   "execution_count": 8,
   "id": "ee920d4e-7749-4a57-9fe9-5c8d4e1fc425",
   "metadata": {},
   "outputs": [
    {
     "name": "stderr",
     "output_type": "stream",
     "text": [
      "/Users/lina492375qw1188/opt/miniconda3/envs/alchemy/lib/python3.9/site-packages/hoomd/write/gsd.py:286: FutureWarning: log property is deprecated since v3.9.0. Use logger instead.\n",
      "  warnings.warn(\n"
     ]
    }
   ],
   "source": [
    "logger = hoomd.logging.Logger()\n",
    "logger.add(mc, quantities=['type_shapes'])\n",
    "logger.add(alchemupdater, quantities=['alpha'])\n",
    "\n",
    "gsd_writer = hoomd.write.GSD(filename='./DATA/trajectory.gsd',\n",
    "                             trigger=hoomd.trigger.Periodic(100),\n",
    "                             mode='wb',\n",
    "                             filter=hoomd.filter.All())\n",
    "gsd_writer.log=logger"
   ]
  },
  {
   "cell_type": "markdown",
   "id": "274c2790-6a4f-4d1c-b83b-1f673f4ad69d",
   "metadata": {},
   "source": [
    "#### attaching operations"
   ]
  },
  {
   "cell_type": "code",
   "execution_count": 9,
   "id": "8a42b468-284b-4921-8a4c-57e43b7960c2",
   "metadata": {},
   "outputs": [],
   "source": [
    "sim.operations.writers.append(gsd_writer)\n",
    "sim.operations.integrator = mc\n",
    "sim.operations.updaters.append(alchemupdater)\n",
    "sim.operations.updaters.append(harmonicupdater)\n",
    "sim.operations.updaters.append(boxmc)\n",
    "sim.operations.tuners.append(tune_boxmc)"
   ]
  },
  {
   "cell_type": "markdown",
   "id": "77702a64-3552-41b2-8920-178ae8eea64d",
   "metadata": {},
   "source": [
    "#### run simulation"
   ]
  },
  {
   "cell_type": "code",
   "execution_count": 10,
   "id": "5d45cf57-3511-4026-95b9-c6f144ecb9ee",
   "metadata": {},
   "outputs": [
    {
     "name": "stderr",
     "output_type": "stream",
     "text": [
      "/Users/lina492375qw1188/opt/miniconda3/envs/alchemy/lib/python3.9/site-packages/hoomd/data/collections.py:241: IsolationWarning: The data structure is removed from its original data source, and updates will no longer modify the previously composing object. Call obj.to_base() to remove this warning.\n",
      "  warnings.warn(hoomd.error.IsolationWarning())\n"
     ]
    },
    {
     "name": "stdout",
     "output_type": "stream",
     "text": [
      "Time elapsed 1090.446980714798\n"
     ]
    }
   ],
   "source": [
    "start = time.time()\n",
    "\n",
    "sim.run(1e5)\n",
    "\n",
    "print('Time elapsed', time.time()-start)"
   ]
  },
  {
   "cell_type": "markdown",
   "id": "11632541-84df-43a0-9798-6c5b6e626dff",
   "metadata": {},
   "source": [
    "#### check overlaps"
   ]
  },
  {
   "cell_type": "code",
   "execution_count": 11,
   "id": "0cd8f96f-88fe-4104-9f8d-575f9ecd6971",
   "metadata": {},
   "outputs": [
    {
     "data": {
      "text/plain": [
       "(0, (82806, 17194))"
      ]
     },
     "execution_count": 11,
     "metadata": {},
     "output_type": "execute_result"
    }
   ],
   "source": [
    "mc.overlaps, alchemupdater.alchem_moves"
   ]
  }
 ],
 "metadata": {
  "kernelspec": {
   "display_name": "Python 3 (ipykernel)",
   "language": "python",
   "name": "python3"
  },
  "language_info": {
   "codemirror_mode": {
    "name": "ipython",
    "version": 3
   },
   "file_extension": ".py",
   "mimetype": "text/x-python",
   "name": "python",
   "nbconvert_exporter": "python",
   "pygments_lexer": "ipython3",
   "version": "3.9.16"
  }
 },
 "nbformat": 4,
 "nbformat_minor": 5
}
