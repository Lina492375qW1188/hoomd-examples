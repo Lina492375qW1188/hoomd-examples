{
 "cells": [
  {
   "cell_type": "code",
   "execution_count": 1,
   "id": "ce40e2f7-357e-4b5f-8d69-3d87fead6114",
   "metadata": {},
   "outputs": [],
   "source": [
    "import time\n",
    "import numpy as np\n",
    "\n",
    "import hoomd\n",
    "import gsd.hoomd\n",
    "import coxeter\n",
    "\n",
    "from harmonic import HarmonicUpdater"
   ]
  },
  {
   "cell_type": "markdown",
   "id": "8b5e6a82-c3e5-4408-b7f1-c7d1a2648c82",
   "metadata": {},
   "source": [
    "#### initializing snapshot"
   ]
  },
  {
   "cell_type": "code",
   "execution_count": 2,
   "id": "ffc23b1d-5861-42d5-89e4-7c1f5b83fb62",
   "metadata": {},
   "outputs": [],
   "source": [
    "cpu = hoomd.device.CPU()\n",
    "sim = hoomd.Simulation(device=cpu, seed=20)\n",
    "sim.create_state_from_gsd(filename='./DATA/lattice.gsd', frame=-1)"
   ]
  },
  {
   "cell_type": "markdown",
   "id": "685b98ff-27ee-4f63-a71f-d7c715841c43",
   "metadata": {},
   "source": [
    "#### initializing integrator"
   ]
  },
  {
   "cell_type": "code",
   "execution_count": 3,
   "id": "a2f4d498-953a-4971-88d6-db7b97e5886d",
   "metadata": {},
   "outputs": [],
   "source": [
    "lattice = gsd.hoomd.open('./DATA/lattice.gsd', 'rb')\n",
    "verts = lattice[-1].particles.type_shapes[0]['vertices']\n",
    "\n",
    "mc = hoomd.hpmc.integrate.ConvexPolyhedron()\n",
    "mc.shape[\"A\"] = dict(vertices=verts)"
   ]
  },
  {
   "cell_type": "markdown",
   "id": "aa74b756-be89-4d05-ae44-a95dba9142f6",
   "metadata": {},
   "source": [
    "#### harmonic constraint"
   ]
  },
  {
   "cell_type": "code",
   "execution_count": 4,
   "id": "2dc7df5c-df4a-4c20-bb2e-3f5caf74ff92",
   "metadata": {},
   "outputs": [],
   "source": [
    "lattice = gsd.hoomd.open('./DATA/lattice.gsd', 'rb')\n",
    "pos = lattice[-1].particles.position\n",
    "ori = lattice[-1].particles.orientation\n",
    "box = lattice[-1].configuration.box\n",
    "\n",
    "k_init=90\n",
    "k_second=0\n",
    "\n",
    "k_rot_init=10\n",
    "k_rot_second=0\n",
    "\n",
    "t_ramp=int(1e5)\n",
    "k_trans = hoomd.variant.Power(A=k_init, \n",
    "                              B=k_second,\n",
    "                              power=1,\n",
    "                              t_start=sim.timestep, \n",
    "                              t_ramp=t_ramp)\n",
    "k_rot = hoomd.variant.Power(A=k_rot_init, \n",
    "                            B=k_rot_second,\n",
    "                            power=1,\n",
    "                            t_start=sim.timestep, \n",
    "                            t_ramp=t_ramp)\n",
    "\n",
    "harmonic = hoomd.hpmc.external.field.Harmonic(reference_positions=pos,\n",
    "                                              reference_orientations=ori,\n",
    "                                              k_translational=k_trans,\n",
    "                                              k_rotational=k_rot,\n",
    "                                              symmetries=ori)\n",
    "mc.external_potential=harmonic"
   ]
  },
  {
   "cell_type": "markdown",
   "id": "31075a9c-c4d1-4e87-9d69-342a0bee7a13",
   "metadata": {},
   "source": [
    "#### harmonic updater"
   ]
  },
  {
   "cell_type": "code",
   "execution_count": 5,
   "id": "2618328b-8076-4e33-bd91-a93a3357eae9",
   "metadata": {},
   "outputs": [],
   "source": [
    "harmonicupdater = hoomd.update.CustomUpdater(action=HarmonicUpdater(ref_pos=pos, \n",
    "                                                                    init_size=box[0]), trigger=1)"
   ]
  },
  {
   "cell_type": "markdown",
   "id": "fa042ce9-822f-49f6-905f-162d9de34a4c",
   "metadata": {},
   "source": [
    "#### constant pressure updater"
   ]
  },
  {
   "cell_type": "code",
   "execution_count": 6,
   "id": "2747a054-e546-4410-acdd-ab75eb41047f",
   "metadata": {},
   "outputs": [],
   "source": [
    "boxmc = hoomd.hpmc.update.BoxMC(trigger=hoomd.trigger.Periodic(10),\n",
    "                                   betaP=20)\n",
    "\n",
    "boxmc.volume['weight']=1.0\n",
    "boxmc.volume['mode']='standard'\n",
    "boxmc.volume['delta']=0.1\n",
    "\n",
    "tune_boxmc = hoomd.hpmc.tune.BoxMCMoveSize.scale_solver(boxmc=boxmc,\n",
    "                                                        trigger=hoomd.trigger.Periodic(100),\n",
    "                                                        moves=['volume'],\n",
    "                                                        target=0.2,\n",
    "                                                        max_move_size={'volume':1})"
   ]
  },
  {
   "cell_type": "markdown",
   "id": "0e8f4b6b-a007-41a2-a8ee-6a16860d571e",
   "metadata": {},
   "source": [
    "#### alchemical updater"
   ]
  },
  {
   "cell_type": "code",
   "execution_count": 7,
   "id": "77323cf2-7bd2-4cfc-8184-1244bf3c1a49",
   "metadata": {},
   "outputs": [],
   "source": [
    "vertex_move = hoomd.hpmc.shape_move.Vertex(default_step_size= 0.002, \n",
    "                                           vertex_move_probability = 0.2)\n",
    "vertex_move.volume[\"A\"] = 1\n",
    "\n",
    "updater = hoomd.hpmc.update.Shape(shape_move=vertex_move, \n",
    "                                  trigger=hoomd.trigger.Periodic(1))\n",
    "updater.shape_move = vertex_move"
   ]
  },
  {
   "cell_type": "markdown",
   "id": "b88887d3-8876-4059-b4a0-3ad3f67c4c6e",
   "metadata": {},
   "source": [
    "#### logger for writing gsd"
   ]
  },
  {
   "cell_type": "code",
   "execution_count": 8,
   "id": "ee920d4e-7749-4a57-9fe9-5c8d4e1fc425",
   "metadata": {},
   "outputs": [
    {
     "name": "stderr",
     "output_type": "stream",
     "text": [
      "/Users/lina492375qw1188/opt/miniconda3/envs/alchemy/lib/python3.9/site-packages/hoomd/write/gsd.py:183: FutureWarning: log keyword arguments passed to <hoomd.write.gsd.GSD object at 0x12c3305b0> is deprecated since v3.9.0. Use logger instead.\n",
      "  warnings.warn(\n"
     ]
    }
   ],
   "source": [
    "logger = hoomd.logging.Logger()\n",
    "logger.add(mc, quantities=['type_shapes'])\n",
    "\n",
    "gsd_writer = hoomd.write.GSD(filename='./DATA/trajectory.gsd',\n",
    "                             trigger=hoomd.trigger.Periodic(100),\n",
    "                             mode='wb',\n",
    "                             filter=hoomd.filter.All(),\n",
    "                             log=logger)"
   ]
  },
  {
   "cell_type": "markdown",
   "id": "4bb18b4c-4b9b-4f9d-959c-23e37efc992e",
   "metadata": {},
   "source": [
    "#### attaching operations"
   ]
  },
  {
   "cell_type": "code",
   "execution_count": 9,
   "id": "8a42b468-284b-4921-8a4c-57e43b7960c2",
   "metadata": {},
   "outputs": [],
   "source": [
    "sim.operations.writers.append(gsd_writer)\n",
    "sim.operations.integrator = mc\n",
    "sim.operations.updaters.append(updater)\n",
    "sim.operations.updaters.append(harmonicupdater)\n",
    "sim.operations.updaters.append(boxmc)\n",
    "sim.operations.tuners.append(tune_boxmc)"
   ]
  },
  {
   "cell_type": "markdown",
   "id": "288e7aef-9252-4f72-9b3a-431bdd21fce5",
   "metadata": {},
   "source": [
    "#### run simulation"
   ]
  },
  {
   "cell_type": "code",
   "execution_count": 10,
   "id": "c77b3b8d-1d2f-4baa-8fa5-7a48b515e72f",
   "metadata": {},
   "outputs": [
    {
     "name": "stdout",
     "output_type": "stream",
     "text": [
      "Time elapsed 151.58479595184326 s\n"
     ]
    },
    {
     "name": "stderr",
     "output_type": "stream",
     "text": [
      "Failed to solve horizon edge.\n"
     ]
    }
   ],
   "source": [
    "start = time.time()\n",
    "\n",
    "sim.run(2e5)\n",
    "\n",
    "print('Time elapsed', time.time()-start, 's')"
   ]
  },
  {
   "cell_type": "markdown",
   "id": "bd98a01c-1458-44bc-8f6e-d7eac83f765e",
   "metadata": {},
   "source": [
    "#### checking overlaps"
   ]
  },
  {
   "cell_type": "code",
   "execution_count": 11,
   "id": "20710a85-d19f-4dce-97e5-2786d285c5e3",
   "metadata": {},
   "outputs": [
    {
     "data": {
      "text/plain": [
       "0"
      ]
     },
     "execution_count": 11,
     "metadata": {},
     "output_type": "execute_result"
    }
   ],
   "source": [
    "mc.overlaps"
   ]
  }
 ],
 "metadata": {
  "kernelspec": {
   "display_name": "Python 3 (ipykernel)",
   "language": "python",
   "name": "python3"
  },
  "language_info": {
   "codemirror_mode": {
    "name": "ipython",
    "version": 3
   },
   "file_extension": ".py",
   "mimetype": "text/x-python",
   "name": "python",
   "nbconvert_exporter": "python",
   "pygments_lexer": "ipython3",
   "version": "3.9.16"
  }
 },
 "nbformat": 4,
 "nbformat_minor": 5
}
