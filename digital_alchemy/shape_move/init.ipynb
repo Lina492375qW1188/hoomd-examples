{
 "cells": [
  {
   "cell_type": "code",
   "execution_count": 1,
   "id": "412549e0-7884-45f3-8e5a-4d92e7e7c376",
   "metadata": {},
   "outputs": [],
   "source": [
    "import itertools\n",
    "import numpy as np\n",
    "\n",
    "import gsd.hoomd\n",
    "import coxeter"
   ]
  },
  {
   "cell_type": "markdown",
   "id": "1012cfd2-3c08-43af-a65e-f82aaee0c29c",
   "metadata": {},
   "source": [
    "#### coxeter creating verts"
   ]
  },
  {
   "cell_type": "code",
   "execution_count": 2,
   "id": "a98e1bbe-f7f1-43c6-a36e-6f060bb160ad",
   "metadata": {},
   "outputs": [],
   "source": [
    "platonic = coxeter.families.PlatonicFamily()\n",
    "particle = platonic.get_shape('Dodecahedron')\n",
    "verts = particle.vertices"
   ]
  },
  {
   "cell_type": "markdown",
   "id": "757a6135-b497-424d-880e-1c0487f15035",
   "metadata": {},
   "source": [
    "#### target structure of simple cubic"
   ]
  },
  {
   "cell_type": "code",
   "execution_count": 3,
   "id": "61a0d457-c6bf-4096-8f04-ad663ea1089c",
   "metadata": {},
   "outputs": [],
   "source": [
    "m=4\n",
    "spacing = 1.32\n",
    "L = m * spacing\n",
    "\n",
    "N_tot = m**3\n",
    "N_particles = N_tot\n",
    "\n",
    "x = np.linspace(-L/2, L/2, m, endpoint=False) + spacing/2\n",
    "position = list(itertools.product(x, repeat=3))[:N_particles]"
   ]
  },
  {
   "cell_type": "markdown",
   "id": "3b881d57-821e-46b6-8b61-369d9c33b9f8",
   "metadata": {},
   "source": [
    "#### creating snapshot"
   ]
  },
  {
   "cell_type": "code",
   "execution_count": 4,
   "id": "511ed0e0-9026-47b7-b67a-fd13a228a2f7",
   "metadata": {},
   "outputs": [],
   "source": [
    "snapshot = gsd.hoomd.Frame()\n",
    "snapshot.particles.types = ['A']\n",
    "snapshot.particles.N = N_particles\n",
    "snapshot.particles.typeid = [0] * N_particles\n",
    "snapshot.particles.position = position\n",
    "snapshot.particles.orientation = [1, 0, 0, 0]*N_particles\n",
    "\n",
    "verts = verts.tolist()\n",
    "snapshot.particles.type_shapes = [{'type': 'ConvexPolyhedron',\n",
    "                                   'vertices': verts}]\n",
    "snapshot.configuration.box = [L, L, L, 0, 0, 0]"
   ]
  },
  {
   "cell_type": "markdown",
   "id": "77703703-1251-440a-970d-0c8c2903f2fa",
   "metadata": {},
   "source": [
    "#### save snapshot"
   ]
  },
  {
   "cell_type": "code",
   "execution_count": 5,
   "id": "c1b1f396-5c63-47ba-85f9-a91077ab4db8",
   "metadata": {},
   "outputs": [],
   "source": [
    "with gsd.hoomd.open(name='./DATA/lattice.gsd', mode='wb') as f:\n",
    "    f.append(snapshot)"
   ]
  }
 ],
 "metadata": {
  "kernelspec": {
   "display_name": "Python 3 (ipykernel)",
   "language": "python",
   "name": "python3"
  },
  "language_info": {
   "codemirror_mode": {
    "name": "ipython",
    "version": 3
   },
   "file_extension": ".py",
   "mimetype": "text/x-python",
   "name": "python",
   "nbconvert_exporter": "python",
   "pygments_lexer": "ipython3",
   "version": "3.9.16"
  }
 },
 "nbformat": 4,
 "nbformat_minor": 5
}
