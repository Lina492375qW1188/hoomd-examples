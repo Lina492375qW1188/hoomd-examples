{
 "cells": [
  {
   "cell_type": "code",
   "execution_count": 1,
   "id": "eedf5037-8b94-4e3f-8659-bc5c4781dd2e",
   "metadata": {},
   "outputs": [],
   "source": [
    "import itertools\n",
    "import numpy as np\n",
    "\n",
    "import hoomd\n",
    "import gsd.hoomd\n",
    "import coxeter"
   ]
  },
  {
   "cell_type": "markdown",
   "id": "2ab97cee-94fd-4028-95e1-a16417a33d30",
   "metadata": {},
   "source": [
    "#### vertices template"
   ]
  },
  {
   "cell_type": "code",
   "execution_count": 2,
   "id": "7875488d-b7fd-4123-99a4-c64e27c97796",
   "metadata": {},
   "outputs": [],
   "source": [
    "h=0.5\n",
    "verts = [(np.cos(0), np.sin(0), h),\n",
    "         (np.cos(np.pi/3), np.sin(np.pi/3), h),\n",
    "         (np.cos(2*np.pi/3), np.sin(2*np.pi/3), h),\n",
    "         (np.cos(3*np.pi/3), np.sin(3*np.pi/3), h),\n",
    "         (np.cos(4*np.pi/3), np.sin(4*np.pi/3), h),\n",
    "         (np.cos(5*np.pi/3), np.sin(5*np.pi/3), h),\n",
    "         (np.cos(0), np.sin(0), -h),\n",
    "         (np.cos(np.pi/3), np.sin(np.pi/3), -h),\n",
    "         (np.cos(2*np.pi/3), np.sin(2*np.pi/3), -h),\n",
    "         (np.cos(3*np.pi/3), np.sin(3*np.pi/3), -h),\n",
    "         (np.cos(4*np.pi/3), np.sin(4*np.pi/3), -h),\n",
    "         (np.cos(5*np.pi/3), np.sin(5*np.pi/3), -h)]"
   ]
  },
  {
   "cell_type": "markdown",
   "id": "12dc1cc0-b4fc-4ea4-b769-abcae991be7c",
   "metadata": {},
   "source": [
    "#### rescaling particle by unit volume"
   ]
  },
  {
   "cell_type": "code",
   "execution_count": 3,
   "id": "14cc1265-8231-401f-adfe-21fd5cd278c3",
   "metadata": {},
   "outputs": [
    {
     "data": {
      "text/plain": [
       "1.0"
      ]
     },
     "execution_count": 3,
     "metadata": {},
     "output_type": "execute_result"
    }
   ],
   "source": [
    "particle = coxeter.shapes.ConvexPolyhedron(verts)\n",
    "scale = (particle.volume)**(1/3)\n",
    "verts /= scale\n",
    "\n",
    "new_particle = coxeter.shapes.ConvexPolyhedron(verts)\n",
    "new_particle.volume"
   ]
  },
  {
   "cell_type": "markdown",
   "id": "413f15e3-6def-4fbb-b0fb-9ac90da4cd05",
   "metadata": {},
   "source": [
    "#### placing at simple cubic lattice points"
   ]
  },
  {
   "cell_type": "code",
   "execution_count": 4,
   "id": "3db10cf9-93c5-4379-a51e-c819c00cd9ab",
   "metadata": {
    "tags": []
   },
   "outputs": [],
   "source": [
    "m=4\n",
    "spacing = 2.2 # > particle size\n",
    "L = m * spacing\n",
    "\n",
    "N_tot = m**3\n",
    "N_particles = N_tot\n",
    "\n",
    "x = np.linspace(-L/2, L/2, m, endpoint=False) + spacing/2\n",
    "position = list(itertools.product(x, repeat=3))[:N_particles]"
   ]
  },
  {
   "cell_type": "markdown",
   "id": "8e0c65a2-5f91-475c-af72-d6abcc682649",
   "metadata": {},
   "source": [
    "#### snapshot"
   ]
  },
  {
   "cell_type": "code",
   "execution_count": 5,
   "id": "53ab8282-6581-472f-82fa-ef2babb8f345",
   "metadata": {},
   "outputs": [],
   "source": [
    "snapshot = gsd.hoomd.Frame()\n",
    "snapshot.particles.types = ['A']\n",
    "snapshot.particles.N = N_particles\n",
    "snapshot.particles.position = position\n",
    "snapshot.particles.orientation = [1, 0, 0, 0]*N_particles\n",
    "\n",
    "moment_inertia = particle.inertia_tensor.diagonal().tolist()\n",
    "snapshot.particles.moment_inertia = moment_inertia * N_particles\n",
    "\n",
    "snapshot.configuration.box = [L, L, L, 0, 0, 0]\n",
    "snapshot.particles.type_shapes = [{'type': 'ConvexPolyhedron',\n",
    "                                   'rounding_radius': 0.,\n",
    "                                   'vertices': verts.tolist()}]"
   ]
  },
  {
   "cell_type": "markdown",
   "id": "c13dbf57-da07-4588-a657-00c48db7c4f0",
   "metadata": {},
   "source": [
    "#### gsd"
   ]
  },
  {
   "cell_type": "code",
   "execution_count": 6,
   "id": "ac0a5e0e-efd5-4ff7-932e-33271665325e",
   "metadata": {},
   "outputs": [],
   "source": [
    "with gsd.hoomd.open(name='./DATA/lattice.gsd', mode='wb') as f:\n",
    "    f.append(snapshot)"
   ]
  }
 ],
 "metadata": {
  "kernelspec": {
   "display_name": "Python 3 (ipykernel)",
   "language": "python",
   "name": "python3"
  },
  "language_info": {
   "codemirror_mode": {
    "name": "ipython",
    "version": 3
   },
   "file_extension": ".py",
   "mimetype": "text/x-python",
   "name": "python",
   "nbconvert_exporter": "python",
   "pygments_lexer": "ipython3",
   "version": "3.9.16"
  }
 },
 "nbformat": 4,
 "nbformat_minor": 5
}
