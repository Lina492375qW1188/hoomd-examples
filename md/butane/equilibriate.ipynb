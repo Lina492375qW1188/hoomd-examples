{
 "cells": [
  {
   "cell_type": "code",
   "execution_count": 1,
   "id": "ce7e09ae-96c9-4a51-84e7-4acf6f26343f",
   "metadata": {
    "tags": []
   },
   "outputs": [],
   "source": [
    "import math\n",
    "import itertools\n",
    "import numpy as np\n",
    "from math import sqrt, pi\n",
    "\n",
    "import hoomd\n",
    "import gsd.hoomd\n",
    "import coxeter"
   ]
  },
  {
   "cell_type": "markdown",
   "id": "3c96c75e-e96e-4b31-bdc5-9b5616769ac9",
   "metadata": {
    "tags": []
   },
   "source": [
    "#### Parameters"
   ]
  },
  {
   "cell_type": "code",
   "execution_count": 2,
   "id": "7e494320-5658-4940-8aa6-059901a80ab9",
   "metadata": {},
   "outputs": [],
   "source": [
    "# integration timestep\n",
    "dt=0.02045\n",
    "# coupling\n",
    "# kT=0.596161\n",
    "kT=1.0\n",
    "tau=100*dt"
   ]
  },
  {
   "cell_type": "markdown",
   "id": "777a1155-ab60-44b4-b373-f5b55b4cc625",
   "metadata": {},
   "source": [
    "#### simultaion"
   ]
  },
  {
   "cell_type": "code",
   "execution_count": 3,
   "id": "5b7dc335-2937-4c7d-bedd-db64dd2c4055",
   "metadata": {},
   "outputs": [],
   "source": [
    "device = hoomd.device.CPU()\n",
    "sim = hoomd.Simulation(device=device, seed=9920)\n",
    "\n",
    "sim.create_state_from_gsd(filename='./DATA/init_config.gsd')\n",
    "sim.state.thermalize_particle_momenta(filter=hoomd.filter.All(), \n",
    "                                      kT=kT)"
   ]
  },
  {
   "cell_type": "code",
   "execution_count": 4,
   "id": "a8d262b2-3d42-481f-b061-f94f2d81c5b5",
   "metadata": {},
   "outputs": [],
   "source": [
    "# system = hoomd.init.read_snapshot(snapshot)\n",
    "\n",
    "nl_ex = hoomd.md.nlist.Cell(buffer=0.4, exclusions=['bond', '1-3', '1-4'])\n",
    "\n",
    "lj = hoomd.md.pair.LJ(default_r_cut=12.0, nlist=nl_ex)\n",
    "lj.params[('C', 'C')] = dict(epsilon=0.07, sigma=3.55)\n",
    "lj.params[('H', 'H')] = dict(epsilon=0.03, sigma=2.42)\n",
    "lj.params[('C', 'H')] = dict(epsilon=sqrt(0.07*0.03), sigma=sqrt(3.55*2.42))\n",
    "\n",
    "coulomb = hoomd.md.long_range.pppm.make_pppm_coulomb_forces(nlist=nl_ex, \n",
    "                                                            resolution=(64,64,64), \n",
    "                                                            order=6, \n",
    "                                                            r_cut=12.0)\n",
    "\n",
    "harmonic = hoomd.md.bond.Harmonic()\n",
    "harmonic.params['CC'] = dict(k=2*268.0, r0=1.529)\n",
    "harmonic.params['CH'] = dict(k=2*340.0, r0=1.09)\n",
    "\n",
    "angle = hoomd.md.angle.Harmonic()\n",
    "angle.params['CCC'] = dict(k=2*58.35, t0=112.7 * pi / 180)\n",
    "angle.params['CCH'] = dict(k=2*37.5, t0=110.7 * pi / 180)\n",
    "angle.params['HCH'] = dict(k=2*33.0, t0=107.8 * pi / 180)\n",
    "\n",
    "dihedral = hoomd.md.dihedral.OPLS()\n",
    "dihedral.params['CCCC'] = dict(k1=1.3, k2=-0.05, k3=0.2, k4=0.0)\n",
    "dihedral.params['HCCC'] = dict(k1=0.0, k2=0.0, k3=0.3, k4=0.0)\n",
    "dihedral.params['HCCH'] = dict(k1=0.0, k2=0.0, k3=0.3, k4=0.0)\n",
    "\n",
    "lj_special_pairs = hoomd.md.special_pair.LJ()\n",
    "lj_special_pairs.params['CCCC'] = dict(epsilon=0.07, sigma=3.55)\n",
    "lj_special_pairs.r_cut['CCCC']=12.0\n",
    "lj_special_pairs.params['HCCH'] = dict(epsilon=0.03, sigma=2.42)\n",
    "lj_special_pairs.r_cut['HCCH']=12.0\n",
    "lj_special_pairs.params['HCCC'] = dict(epsilon=sqrt(0.07 * 0.03),\n",
    "                                       sigma=sqrt(3.55*2.42))\n",
    "lj_special_pairs.r_cut['HCCC']=12.0\n",
    "\n",
    "coulomb_special_pairs = hoomd.md.special_pair.Coulomb()\n",
    "coulomb_special_pairs.params['CCCC'] = dict(alpha=0.5)\n",
    "coulomb_special_pairs.r_cut['CCCC'] = 12.0\n",
    "coulomb_special_pairs.params['HCCC'] = dict(alpha=0.5)\n",
    "coulomb_special_pairs.r_cut['HCCC'] = 12.0\n",
    "coulomb_special_pairs.params['HCCH'] = dict(alpha=0.5)\n",
    "coulomb_special_pairs.r_cut['HCCH'] = 12.0"
   ]
  },
  {
   "cell_type": "markdown",
   "id": "1618122a-0dcb-4b2d-b229-039464798ce7",
   "metadata": {
    "tags": []
   },
   "source": [
    "#### thermodynamic ensemble"
   ]
  },
  {
   "cell_type": "code",
   "execution_count": 5,
   "id": "738f532e-0994-4f75-a7e8-c235ad1ee16e",
   "metadata": {},
   "outputs": [
    {
     "name": "stderr",
     "output_type": "stream",
     "text": [
      "/Users/lina492375qw1188/opt/miniconda3/envs/patchy/lib/python3.9/site-packages/hoomd/md/methods/methods.py:102: FutureWarning: NVT is deprecated and wil be removed in hoomd 4.0. In version 4.0, use the ConstantVolume method with the desired thermostat from hoomd.md.methods.thermostats.\n",
      "  warnings.warn(\n"
     ]
    }
   ],
   "source": [
    "nvt = hoomd.md.methods.NVT(filter=hoomd.filter.All(), \n",
    "                           kT=kT, \n",
    "                           tau=tau)"
   ]
  },
  {
   "cell_type": "markdown",
   "id": "52117812-09cf-42bb-84a6-879e39cee3cc",
   "metadata": {
    "tags": []
   },
   "source": [
    "#### integrator"
   ]
  },
  {
   "cell_type": "code",
   "execution_count": 6,
   "id": "144070b2-fb7b-42bc-9759-a752e00f874f",
   "metadata": {},
   "outputs": [],
   "source": [
    "integrator = hoomd.md.Integrator(dt=dt, \n",
    "                                 methods=[nvt],\n",
    "                                 forces=[lj, \n",
    "                                         coulomb[0],\n",
    "                                         coulomb[1],\n",
    "                                         harmonic,\n",
    "                                         angle,\n",
    "                                         dihedral,\n",
    "                                         lj_special_pairs, \n",
    "                                         coulomb_special_pairs])"
   ]
  },
  {
   "cell_type": "markdown",
   "id": "7fd3dff3-f05b-48d9-aa58-718ae9dbf1a9",
   "metadata": {
    "tags": []
   },
   "source": [
    "#### writer"
   ]
  },
  {
   "cell_type": "code",
   "execution_count": 7,
   "id": "a1ed3e4f-cf89-4aa1-b7fc-a06d6b1eb71c",
   "metadata": {},
   "outputs": [],
   "source": [
    "thermodynamic_properties = hoomd.md.compute.ThermodynamicQuantities(filter=hoomd.filter.All())\n",
    "\n",
    "logger = hoomd.logging.Logger()\n",
    "logger.add(sim, quantities=['timestep', 'walltime'])\n",
    "logger.add(thermodynamic_properties)"
   ]
  },
  {
   "cell_type": "code",
   "execution_count": 8,
   "id": "386e8b7c-be38-447e-9501-854fd89b43a4",
   "metadata": {},
   "outputs": [
    {
     "name": "stderr",
     "output_type": "stream",
     "text": [
      "/Users/lina492375qw1188/opt/miniconda3/envs/patchy/lib/python3.9/site-packages/hoomd/write/gsd.py:183: FutureWarning: log keyword arguments passed to <hoomd.write.gsd.GSD object at 0x11bc5f220> is deprecated since v3.9.0. Use logger instead.\n",
      "  warnings.warn(\n"
     ]
    }
   ],
   "source": [
    "gsd_writer = hoomd.write.GSD(filename='./DATA/equilibriate.gsd',\n",
    "                             trigger=hoomd.trigger.Periodic(10),\n",
    "                             log=logger,\n",
    "                             mode='wb')"
   ]
  },
  {
   "cell_type": "code",
   "execution_count": 9,
   "id": "c3aa1640-9655-4c52-bb3f-d4514fe879ca",
   "metadata": {},
   "outputs": [],
   "source": [
    "sim.operations.writers.append(gsd_writer)\n",
    "sim.operations.integrator = integrator\n",
    "sim.operations.computes.append(thermodynamic_properties)"
   ]
  },
  {
   "cell_type": "markdown",
   "id": "a5435a9d-949a-48de-9575-07683a314157",
   "metadata": {
    "tags": []
   },
   "source": [
    "#### run"
   ]
  },
  {
   "cell_type": "code",
   "execution_count": null,
   "id": "59fe4f21-c0cc-461d-a2e2-c270b9755c5a",
   "metadata": {},
   "outputs": [
    {
     "name": "stdout",
     "output_type": "stream",
     "text": [
      "notice(2): charge.pppm: RMS error: 1.29239e-08\n"
     ]
    }
   ],
   "source": [
    "sim.run(1e5)"
   ]
  }
 ],
 "metadata": {
  "kernelspec": {
   "display_name": "Python 3 (ipykernel)",
   "language": "python",
   "name": "python3"
  },
  "language_info": {
   "codemirror_mode": {
    "name": "ipython",
    "version": 3
   },
   "file_extension": ".py",
   "mimetype": "text/x-python",
   "name": "python",
   "nbconvert_exporter": "python",
   "pygments_lexer": "ipython3",
   "version": "3.9.16"
  }
 },
 "nbformat": 4,
 "nbformat_minor": 5
}
