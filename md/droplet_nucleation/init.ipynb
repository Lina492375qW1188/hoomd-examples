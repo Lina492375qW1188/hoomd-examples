{
 "cells": [
  {
   "cell_type": "code",
   "execution_count": 1,
   "id": "eedf5037-8b94-4e3f-8659-bc5c4781dd2e",
   "metadata": {},
   "outputs": [],
   "source": [
    "import itertools\n",
    "import numpy as np\n",
    "\n",
    "import hoomd\n",
    "import gsd.hoomd\n",
    "import coxeter"
   ]
  },
  {
   "cell_type": "code",
   "execution_count": 2,
   "id": "3db10cf9-93c5-4379-a51e-c819c00cd9ab",
   "metadata": {
    "tags": []
   },
   "outputs": [],
   "source": [
    "m=7\n",
    "spacing = 5 # > particle size\n",
    "L = m * spacing\n",
    "\n",
    "N_tot = m**3\n",
    "N_particles = N_tot\n",
    "\n",
    "x = np.linspace(-L/2, L/2, m, endpoint=False) + spacing/2\n",
    "position = list(itertools.product(x, repeat=3))[:N_particles]"
   ]
  },
  {
   "cell_type": "markdown",
   "id": "8e0c65a2-5f91-475c-af72-d6abcc682649",
   "metadata": {
    "tags": []
   },
   "source": [
    "#### snapshot"
   ]
  },
  {
   "cell_type": "code",
   "execution_count": 3,
   "id": "53ab8282-6581-472f-82fa-ef2babb8f345",
   "metadata": {},
   "outputs": [],
   "source": [
    "snapshot = gsd.hoomd.Snapshot()\n",
    "snapshot.particles.types = ['A']\n",
    "snapshot.particles.N = N_particles\n",
    "snapshot.particles.position = position\n",
    "snapshot.configuration.box = [L, L, L, 0, 0, 0]"
   ]
  },
  {
   "cell_type": "markdown",
   "id": "c13dbf57-da07-4588-a657-00c48db7c4f0",
   "metadata": {
    "tags": []
   },
   "source": [
    "#### write"
   ]
  },
  {
   "cell_type": "code",
   "execution_count": 4,
   "id": "ac0a5e0e-efd5-4ff7-932e-33271665325e",
   "metadata": {},
   "outputs": [],
   "source": [
    "with gsd.hoomd.open(name='./DATA/lattice.gsd', mode='wb') as f:\n",
    "    f.append(snapshot)"
   ]
  }
 ],
 "metadata": {
  "kernelspec": {
   "display_name": "Python 3 (ipykernel)",
   "language": "python",
   "name": "python3"
  },
  "language_info": {
   "codemirror_mode": {
    "name": "ipython",
    "version": 3
   },
   "file_extension": ".py",
   "mimetype": "text/x-python",
   "name": "python",
   "nbconvert_exporter": "python",
   "pygments_lexer": "ipython3",
   "version": "3.9.16"
  }
 },
 "nbformat": 4,
 "nbformat_minor": 5
}
