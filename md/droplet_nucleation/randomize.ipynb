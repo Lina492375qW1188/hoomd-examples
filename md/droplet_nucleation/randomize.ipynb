{
 "cells": [
  {
   "cell_type": "code",
   "execution_count": 1,
   "id": "ce7e09ae-96c9-4a51-84e7-4acf6f26343f",
   "metadata": {
    "tags": []
   },
   "outputs": [],
   "source": [
    "import math\n",
    "import itertools\n",
    "import numpy as np\n",
    "\n",
    "import hoomd\n",
    "import gsd.hoomd\n",
    "import coxeter"
   ]
  },
  {
   "cell_type": "markdown",
   "id": "3c96c75e-e96e-4b31-bdc5-9b5616769ac9",
   "metadata": {
    "tags": []
   },
   "source": [
    "#### parameters"
   ]
  },
  {
   "cell_type": "code",
   "execution_count": 2,
   "id": "7e494320-5658-4940-8aa6-059901a80ab9",
   "metadata": {},
   "outputs": [],
   "source": [
    "# integration timestep\n",
    "dt=0.01\n",
    "\n",
    "# coupling\n",
    "kT=1.0\n",
    "tau=100*dt"
   ]
  },
  {
   "cell_type": "markdown",
   "id": "777a1155-ab60-44b4-b373-f5b55b4cc625",
   "metadata": {},
   "source": [
    "#### initialize snapshot"
   ]
  },
  {
   "cell_type": "code",
   "execution_count": 3,
   "id": "5b7dc335-2937-4c7d-bedd-db64dd2c4055",
   "metadata": {},
   "outputs": [],
   "source": [
    "device = hoomd.device.CPU()\n",
    "sim = hoomd.Simulation(device=device, seed=910)\n",
    "\n",
    "sim.create_state_from_gsd(filename='./DATA/lattice.gsd')\n",
    "sim.state.thermalize_particle_momenta(filter=hoomd.filter.All(), \n",
    "                                      kT=kT)"
   ]
  },
  {
   "cell_type": "markdown",
   "id": "d33bc6eb-6300-4f3a-a1ef-837dca00db84",
   "metadata": {},
   "source": [
    "#### potential"
   ]
  },
  {
   "cell_type": "code",
   "execution_count": 4,
   "id": "ec756ff6-868f-41ff-86f1-8e8995f208df",
   "metadata": {},
   "outputs": [],
   "source": [
    "# neighboring list\n",
    "nl = hoomd.md.nlist.Cell(buffer=0.4)\n",
    "\n",
    "# potential\n",
    "lj = hoomd.md.pair.LJ(nlist=nl)\n",
    "lj.params[('A', 'A')] = dict(epsilon=2.0, sigma=1.0)\n",
    "lj.r_cut[('A', 'A')] = 3.0"
   ]
  },
  {
   "cell_type": "markdown",
   "id": "1618122a-0dcb-4b2d-b229-039464798ce7",
   "metadata": {
    "tags": []
   },
   "source": [
    "#### thermodynamic ensemble"
   ]
  },
  {
   "cell_type": "code",
   "execution_count": 5,
   "id": "738f532e-0994-4f75-a7e8-c235ad1ee16e",
   "metadata": {},
   "outputs": [],
   "source": [
    "nvt = hoomd.md.methods.NVT(filter=hoomd.filter.All(), \n",
    "                           kT=kT, \n",
    "                           tau=tau)"
   ]
  },
  {
   "cell_type": "markdown",
   "id": "52117812-09cf-42bb-84a6-879e39cee3cc",
   "metadata": {
    "tags": []
   },
   "source": [
    "#### integrator"
   ]
  },
  {
   "cell_type": "code",
   "execution_count": 6,
   "id": "144070b2-fb7b-42bc-9759-a752e00f874f",
   "metadata": {},
   "outputs": [],
   "source": [
    "integrator = hoomd.md.Integrator(dt=dt, \n",
    "                                 methods=[nvt],\n",
    "                                 forces=[lj])"
   ]
  },
  {
   "cell_type": "markdown",
   "id": "7fd3dff3-f05b-48d9-aa58-718ae9dbf1a9",
   "metadata": {
    "tags": []
   },
   "source": [
    "#### writer"
   ]
  },
  {
   "cell_type": "code",
   "execution_count": 7,
   "id": "a1ed3e4f-cf89-4aa1-b7fc-a06d6b1eb71c",
   "metadata": {},
   "outputs": [],
   "source": [
    "thermodynamic_properties = hoomd.md.compute.ThermodynamicQuantities(filter=hoomd.filter.All())\n",
    "\n",
    "logger = hoomd.logging.Logger()\n",
    "logger.add(sim, quantities=['timestep', 'walltime'])\n",
    "logger.add(thermodynamic_properties)\n",
    "\n",
    "gsd_writer = hoomd.write.GSD(filename='./DATA/randomized.gsd',\n",
    "                             trigger=hoomd.trigger.Periodic(100),\n",
    "                             log=logger,\n",
    "                             mode='wb')"
   ]
  },
  {
   "cell_type": "markdown",
   "id": "c09c6124-5d0d-4a96-8f4d-7a487bce03cb",
   "metadata": {},
   "source": [
    "#### attaching operations"
   ]
  },
  {
   "cell_type": "code",
   "execution_count": 9,
   "id": "c3aa1640-9655-4c52-bb3f-d4514fe879ca",
   "metadata": {},
   "outputs": [],
   "source": [
    "sim.operations.writers.append(gsd_writer)\n",
    "sim.operations.integrator = integrator\n",
    "sim.operations.computes.append(thermodynamic_properties)"
   ]
  },
  {
   "cell_type": "markdown",
   "id": "a5435a9d-949a-48de-9575-07683a314157",
   "metadata": {
    "tags": []
   },
   "source": [
    "#### run"
   ]
  },
  {
   "cell_type": "code",
   "execution_count": 10,
   "id": "59fe4f21-c0cc-461d-a2e2-c270b9755c5a",
   "metadata": {},
   "outputs": [],
   "source": [
    "sim.run(1e6)"
   ]
  }
 ],
 "metadata": {
  "kernelspec": {
   "display_name": "Python 3 (ipykernel)",
   "language": "python",
   "name": "python3"
  },
  "language_info": {
   "codemirror_mode": {
    "name": "ipython",
    "version": 3
   },
   "file_extension": ".py",
   "mimetype": "text/x-python",
   "name": "python",
   "nbconvert_exporter": "python",
   "pygments_lexer": "ipython3",
   "version": "3.9.16"
  }
 },
 "nbformat": 4,
 "nbformat_minor": 5
}
